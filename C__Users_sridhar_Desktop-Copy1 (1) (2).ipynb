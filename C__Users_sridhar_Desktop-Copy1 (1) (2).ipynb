{
 "cells": [
  {
   "cell_type": "code",
   "execution_count": 73,
   "id": "f5eb74ec",
   "metadata": {},
   "outputs": [],
   "source": [
    "import pandas as pd\n",
    "import numpy as np\n",
    "from sklearn.model_selection import train_test_split, GridSearchCV, StratifiedKFold,RandomizedSearchCV\n",
    "\n",
    "import seaborn as sns\n",
    "from sklearn.feature_extraction.text import TfidfVectorizer\n",
    "from sklearn.naive_bayes import MultinomialNB\n",
    "from sklearn.metrics import accuracy_score, classification_report,confusion_matrix\n",
    "import nltk\n",
    "from sklearn.feature_extraction.text import CountVectorizer\n",
    "from nltk.corpus import stopwords\n",
    "from nltk.stem import WordNetLemmatizer\n",
    "from sklearn.preprocessing import LabelEncoder\n",
    "from nltk.tokenize import word_tokenize\n",
    "from sklearn.linear_model import LogisticRegression\n",
    "from gensim.models import Word2Vec\n",
    "from sklearn.pipeline import Pipeline\n",
    "from xgboost import XGBClassifier\n",
    "from sklearn.ensemble import AdaBoostClassifier\n",
    "from imblearn.over_sampling import RandomOverSampler\n",
    "import pickle\n",
    "import joblib\n",
    "\n",
    "\n"
   ]
  },
  {
   "cell_type": "code",
   "execution_count": 2,
   "id": "422d42e9",
   "metadata": {},
   "outputs": [
    {
     "name": "stderr",
     "output_type": "stream",
     "text": [
      "C:\\Users\\sridhar\\AppData\\Local\\Temp\\ipykernel_3832\\1152863127.py:1: DtypeWarning: Columns (10,30,33,34,44,55,57,64) have mixed types. Specify dtype option on import or set low_memory=False.\n",
      "  data=pd.read_csv(\"tickets.csv\")\n"
     ]
    }
   ],
   "source": [
    "data=pd.read_csv(\"tickets.csv\")"
   ]
  },
  {
   "cell_type": "code",
   "execution_count": 3,
   "id": "e3969133",
   "metadata": {},
   "outputs": [
    {
     "data": {
      "text/html": [
       "<div>\n",
       "<style scoped>\n",
       "    .dataframe tbody tr th:only-of-type {\n",
       "        vertical-align: middle;\n",
       "    }\n",
       "\n",
       "    .dataframe tbody tr th {\n",
       "        vertical-align: top;\n",
       "    }\n",
       "\n",
       "    .dataframe thead th {\n",
       "        text-align: right;\n",
       "    }\n",
       "</style>\n",
       "<table border=\"1\" class=\"dataframe\">\n",
       "  <thead>\n",
       "    <tr style=\"text-align: right;\">\n",
       "      <th></th>\n",
       "      <th>AD OU Location</th>\n",
       "      <th>Affected User Business Unit</th>\n",
       "      <th>Affected User Company</th>\n",
       "      <th>Affected User Country</th>\n",
       "      <th>Affected User Location</th>\n",
       "      <th>Affected User Region</th>\n",
       "      <th>Alert Asset Name</th>\n",
       "      <th>Application Request</th>\n",
       "      <th>Approval Status</th>\n",
       "      <th>Approval Status.1</th>\n",
       "      <th>...</th>\n",
       "      <th>Subject</th>\n",
       "      <th>Survey Result</th>\n",
       "      <th>Tags</th>\n",
       "      <th>Type</th>\n",
       "      <th>Time Tracked</th>\n",
       "      <th>Last Updated Time</th>\n",
       "      <th>Updated By</th>\n",
       "      <th>Urgency</th>\n",
       "      <th>Workflow Field</th>\n",
       "      <th>Zip_Postal Code</th>\n",
       "    </tr>\n",
       "  </thead>\n",
       "  <tbody>\n",
       "    <tr>\n",
       "      <th>0</th>\n",
       "      <td>OU=Users,OU=GMC,OU=Mexico,OU=AAM-Global</td>\n",
       "      <td>Driveline</td>\n",
       "      <td>American Axle &amp; Manufacturing Inc</td>\n",
       "      <td>Mexico</td>\n",
       "      <td>Guanajuato Manufacturing - Plant 5</td>\n",
       "      <td>North America</td>\n",
       "      <td>NaN</td>\n",
       "      <td>NaN</td>\n",
       "      <td>NaN</td>\n",
       "      <td>Not Requested</td>\n",
       "      <td>...</td>\n",
       "      <td>GMC 5 - Network Account - Unlock Account</td>\n",
       "      <td>NaN</td>\n",
       "      <td>Edward Acuna</td>\n",
       "      <td>Incident</td>\n",
       "      <td>0:00:00</td>\n",
       "      <td>11/12/2023 1:35</td>\n",
       "      <td>Edward Acuna</td>\n",
       "      <td>Low</td>\n",
       "      <td>NaN</td>\n",
       "      <td>36100</td>\n",
       "    </tr>\n",
       "    <tr>\n",
       "      <th>1</th>\n",
       "      <td>OU=Users,OU=PNE,OU=Asia,OU=AAM-Global</td>\n",
       "      <td>Corporate - India</td>\n",
       "      <td>American Axle &amp; Manufacturing Inc</td>\n",
       "      <td>India</td>\n",
       "      <td>Pune Business Office &amp; Engineering Center</td>\n",
       "      <td>India</td>\n",
       "      <td>NaN</td>\n",
       "      <td>NaN</td>\n",
       "      <td>NaN</td>\n",
       "      <td>Not Requested</td>\n",
       "      <td>...</td>\n",
       "      <td>Computer Accessories Request Bundle for Chetan...</td>\n",
       "      <td>NaN</td>\n",
       "      <td>Computer Accessories Request,Sunil Dhebe</td>\n",
       "      <td>Service Request</td>\n",
       "      <td>0:00:00</td>\n",
       "      <td>11/12/2023 0:35</td>\n",
       "      <td>Sunil Dhebe</td>\n",
       "      <td>Low</td>\n",
       "      <td>19000251677</td>\n",
       "      <td>411014</td>\n",
       "    </tr>\n",
       "    <tr>\n",
       "      <th>2</th>\n",
       "      <td>OU=Users,OU=PNE,OU=Asia,OU=AAM-Global</td>\n",
       "      <td>Corporate - India</td>\n",
       "      <td>American Axle &amp; Manufacturing Inc</td>\n",
       "      <td>India</td>\n",
       "      <td>Pune Business Office &amp; Engineering Center</td>\n",
       "      <td>India</td>\n",
       "      <td>NaN</td>\n",
       "      <td>NaN</td>\n",
       "      <td>NaN</td>\n",
       "      <td>Not Requested</td>\n",
       "      <td>...</td>\n",
       "      <td>Need to add blue flag to BI in PLM.</td>\n",
       "      <td>NaN</td>\n",
       "      <td>Sunil Dhebe,Vishvanath Kadam,Release/Unrelease</td>\n",
       "      <td>Incident</td>\n",
       "      <td>0:00:00</td>\n",
       "      <td>11/18/2023 7:35</td>\n",
       "      <td>Vishvanath Kadam</td>\n",
       "      <td>Low</td>\n",
       "      <td>NaN</td>\n",
       "      <td>411014</td>\n",
       "    </tr>\n",
       "    <tr>\n",
       "      <th>3</th>\n",
       "      <td>OU=Users,OU=ZEL,OU=Europe,OU=AAM-Global</td>\n",
       "      <td>Metal Forming</td>\n",
       "      <td>NaN</td>\n",
       "      <td>Germany</td>\n",
       "      <td>Zell Manufacturing Facility</td>\n",
       "      <td>Europe</td>\n",
       "      <td>NaN</td>\n",
       "      <td>NaN</td>\n",
       "      <td>NaN</td>\n",
       "      <td>Not Requested</td>\n",
       "      <td>...</td>\n",
       "      <td>Remote Verbindung zum Pusher ist nicht in Funk...</td>\n",
       "      <td>NaN</td>\n",
       "      <td>Ieisha Alexander,Hans-Juergen Schenk,Christoph...</td>\n",
       "      <td>Service Request</td>\n",
       "      <td>0:00:00</td>\n",
       "      <td>11/13/2023 9:36</td>\n",
       "      <td>Christoph Roessel</td>\n",
       "      <td>Low</td>\n",
       "      <td>NaN</td>\n",
       "      <td>77736</td>\n",
       "    </tr>\n",
       "    <tr>\n",
       "      <th>4</th>\n",
       "      <td>OU=Users,OU=ZEL,OU=Europe,OU=AAM-Global</td>\n",
       "      <td>Metal Forming</td>\n",
       "      <td>American Axle &amp; Manufacturing Inc</td>\n",
       "      <td>Germany</td>\n",
       "      <td>Zell Manufacturing Facility</td>\n",
       "      <td>Europe</td>\n",
       "      <td>NaN</td>\n",
       "      <td>NaN</td>\n",
       "      <td>NaN</td>\n",
       "      <td>Not Requested</td>\n",
       "      <td>...</td>\n",
       "      <td>Q-Studio läuft nicht mehr</td>\n",
       "      <td>NaN</td>\n",
       "      <td>Oliver Kurz,Hans-Juergen Schenk</td>\n",
       "      <td>Incident</td>\n",
       "      <td>0:00:00</td>\n",
       "      <td>11/12/2023 8:35</td>\n",
       "      <td>Hans-Juergen Schenk</td>\n",
       "      <td>Low</td>\n",
       "      <td>NaN</td>\n",
       "      <td>77736</td>\n",
       "    </tr>\n",
       "    <tr>\n",
       "      <th>...</th>\n",
       "      <td>...</td>\n",
       "      <td>...</td>\n",
       "      <td>...</td>\n",
       "      <td>...</td>\n",
       "      <td>...</td>\n",
       "      <td>...</td>\n",
       "      <td>...</td>\n",
       "      <td>...</td>\n",
       "      <td>...</td>\n",
       "      <td>...</td>\n",
       "      <td>...</td>\n",
       "      <td>...</td>\n",
       "      <td>...</td>\n",
       "      <td>...</td>\n",
       "      <td>...</td>\n",
       "      <td>...</td>\n",
       "      <td>...</td>\n",
       "      <td>...</td>\n",
       "      <td>...</td>\n",
       "      <td>...</td>\n",
       "      <td>...</td>\n",
       "    </tr>\n",
       "    <tr>\n",
       "      <th>8587</th>\n",
       "      <td>OU=Users,OU=PUN,OU=Asia,OU=AAM-Global</td>\n",
       "      <td>Driveline</td>\n",
       "      <td>American Axle &amp; Manufacturing Inc</td>\n",
       "      <td>India</td>\n",
       "      <td>Pune Manufacturing Facility</td>\n",
       "      <td>India</td>\n",
       "      <td>NaN</td>\n",
       "      <td>NaN</td>\n",
       "      <td>Requested</td>\n",
       "      <td>Not Requested</td>\n",
       "      <td>...</td>\n",
       "      <td>Request for Rahul Patil : Siemens Teamcenter V...</td>\n",
       "      <td>NaN</td>\n",
       "      <td>NaN</td>\n",
       "      <td>Service Request</td>\n",
       "      <td>0:00:00</td>\n",
       "      <td>12/7/2023 0:27</td>\n",
       "      <td>Rahul Patil</td>\n",
       "      <td>Low</td>\n",
       "      <td>Engineering Application Request</td>\n",
       "      <td>414301</td>\n",
       "    </tr>\n",
       "    <tr>\n",
       "      <th>8588</th>\n",
       "      <td>OU=Users,OU=OSL,OU=Europe,OU=AAM-Global</td>\n",
       "      <td>Metal Forming</td>\n",
       "      <td>American Axle &amp; Manufacturing Inc</td>\n",
       "      <td>Czech Republic</td>\n",
       "      <td>Oslavany Manufacturing Facility</td>\n",
       "      <td>Europe</td>\n",
       "      <td>NaN</td>\n",
       "      <td>NaN</td>\n",
       "      <td>NaN</td>\n",
       "      <td>Not Requested</td>\n",
       "      <td>...</td>\n",
       "      <td>Dorda Petr (61071)</td>\n",
       "      <td>NaN</td>\n",
       "      <td>NaN</td>\n",
       "      <td>Incident</td>\n",
       "      <td>0:00:00</td>\n",
       "      <td>12/7/2023 0:38</td>\n",
       "      <td>Petr Kocanda</td>\n",
       "      <td>Low</td>\n",
       "      <td>NaN</td>\n",
       "      <td>664 12</td>\n",
       "    </tr>\n",
       "    <tr>\n",
       "      <th>8589</th>\n",
       "      <td>OU=Users,OU=HAU,OU=Europe,OU=AAM-Global</td>\n",
       "      <td>Metal Forming</td>\n",
       "      <td>American Axle &amp; Manufacturing Inc</td>\n",
       "      <td>Germany</td>\n",
       "      <td>Hausach Manufacturing Facility</td>\n",
       "      <td>Europe</td>\n",
       "      <td>NaN</td>\n",
       "      <td>NaN</td>\n",
       "      <td>NaN</td>\n",
       "      <td>Not Requested</td>\n",
       "      <td>...</td>\n",
       "      <td>Lohnschein Drucken geht nicht</td>\n",
       "      <td>NaN</td>\n",
       "      <td>Jackie Robinson</td>\n",
       "      <td>Incident</td>\n",
       "      <td>0:00:00</td>\n",
       "      <td>12/7/2023 1:03</td>\n",
       "      <td>Jackie Robinson</td>\n",
       "      <td>Low</td>\n",
       "      <td>NaN</td>\n",
       "      <td>NaN</td>\n",
       "    </tr>\n",
       "    <tr>\n",
       "      <th>8590</th>\n",
       "      <td>OU=Users,OU=PNE,OU=Asia,OU=AAM-Global</td>\n",
       "      <td>Corporate - India</td>\n",
       "      <td>American Axle &amp; Manufacturing Inc</td>\n",
       "      <td>India</td>\n",
       "      <td>Pune Business Office &amp; Engineering Center</td>\n",
       "      <td>India</td>\n",
       "      <td>NaN</td>\n",
       "      <td>NaN</td>\n",
       "      <td>NaN</td>\n",
       "      <td>Not Requested</td>\n",
       "      <td>...</td>\n",
       "      <td>Reimbursement request not visible</td>\n",
       "      <td>NaN</td>\n",
       "      <td>NaN</td>\n",
       "      <td>Incident</td>\n",
       "      <td>0:00:00</td>\n",
       "      <td>12/7/2023 1:08</td>\n",
       "      <td>Harshal Sonawane</td>\n",
       "      <td>Low</td>\n",
       "      <td>NaN</td>\n",
       "      <td>411014</td>\n",
       "    </tr>\n",
       "    <tr>\n",
       "      <th>8591</th>\n",
       "      <td>OU=Users,OU=GMC,OU=Mexico,OU=AAM-Global</td>\n",
       "      <td>Driveline</td>\n",
       "      <td>American Axle &amp; Manufacturing Inc</td>\n",
       "      <td>Mexico</td>\n",
       "      <td>Guanajuato Manufacturing - Plant 2</td>\n",
       "      <td>North America</td>\n",
       "      <td>NaN</td>\n",
       "      <td>NaN</td>\n",
       "      <td>NaN</td>\n",
       "      <td>Requested</td>\n",
       "      <td>...</td>\n",
       "      <td>Office 365 License Change &amp; Email Request (O36...</td>\n",
       "      <td>NaN</td>\n",
       "      <td>NaN</td>\n",
       "      <td>Service Request</td>\n",
       "      <td>0:00:00</td>\n",
       "      <td>12/7/2023 1:10</td>\n",
       "      <td>Jose Contreras</td>\n",
       "      <td>Low</td>\n",
       "      <td>NaN</td>\n",
       "      <td>36100</td>\n",
       "    </tr>\n",
       "  </tbody>\n",
       "</table>\n",
       "<p>8592 rows × 73 columns</p>\n",
       "</div>"
      ],
      "text/plain": [
       "                               AD OU Location Affected User Business Unit  \\\n",
       "0     OU=Users,OU=GMC,OU=Mexico,OU=AAM-Global                   Driveline   \n",
       "1       OU=Users,OU=PNE,OU=Asia,OU=AAM-Global           Corporate - India   \n",
       "2       OU=Users,OU=PNE,OU=Asia,OU=AAM-Global           Corporate - India   \n",
       "3     OU=Users,OU=ZEL,OU=Europe,OU=AAM-Global               Metal Forming   \n",
       "4     OU=Users,OU=ZEL,OU=Europe,OU=AAM-Global               Metal Forming   \n",
       "...                                       ...                         ...   \n",
       "8587    OU=Users,OU=PUN,OU=Asia,OU=AAM-Global                   Driveline   \n",
       "8588  OU=Users,OU=OSL,OU=Europe,OU=AAM-Global               Metal Forming   \n",
       "8589  OU=Users,OU=HAU,OU=Europe,OU=AAM-Global               Metal Forming   \n",
       "8590    OU=Users,OU=PNE,OU=Asia,OU=AAM-Global           Corporate - India   \n",
       "8591  OU=Users,OU=GMC,OU=Mexico,OU=AAM-Global                   Driveline   \n",
       "\n",
       "                  Affected User Company Affected User Country  \\\n",
       "0     American Axle & Manufacturing Inc                Mexico   \n",
       "1     American Axle & Manufacturing Inc                 India   \n",
       "2     American Axle & Manufacturing Inc                 India   \n",
       "3                                   NaN               Germany   \n",
       "4     American Axle & Manufacturing Inc               Germany   \n",
       "...                                 ...                   ...   \n",
       "8587  American Axle & Manufacturing Inc                 India   \n",
       "8588  American Axle & Manufacturing Inc        Czech Republic   \n",
       "8589  American Axle & Manufacturing Inc               Germany   \n",
       "8590  American Axle & Manufacturing Inc                 India   \n",
       "8591  American Axle & Manufacturing Inc                Mexico   \n",
       "\n",
       "                         Affected User Location Affected User Region  \\\n",
       "0            Guanajuato Manufacturing - Plant 5        North America   \n",
       "1     Pune Business Office & Engineering Center                India   \n",
       "2     Pune Business Office & Engineering Center                India   \n",
       "3                   Zell Manufacturing Facility               Europe   \n",
       "4                   Zell Manufacturing Facility               Europe   \n",
       "...                                         ...                  ...   \n",
       "8587                Pune Manufacturing Facility                India   \n",
       "8588            Oslavany Manufacturing Facility               Europe   \n",
       "8589             Hausach Manufacturing Facility               Europe   \n",
       "8590  Pune Business Office & Engineering Center                India   \n",
       "8591         Guanajuato Manufacturing - Plant 2        North America   \n",
       "\n",
       "     Alert Asset Name  Application Request Approval Status Approval Status.1  \\\n",
       "0                 NaN                  NaN             NaN     Not Requested   \n",
       "1                 NaN                  NaN             NaN     Not Requested   \n",
       "2                 NaN                  NaN             NaN     Not Requested   \n",
       "3                 NaN                  NaN             NaN     Not Requested   \n",
       "4                 NaN                  NaN             NaN     Not Requested   \n",
       "...               ...                  ...             ...               ...   \n",
       "8587              NaN                  NaN       Requested     Not Requested   \n",
       "8588              NaN                  NaN             NaN     Not Requested   \n",
       "8589              NaN                  NaN             NaN     Not Requested   \n",
       "8590              NaN                  NaN             NaN     Not Requested   \n",
       "8591              NaN                  NaN             NaN         Requested   \n",
       "\n",
       "      ...                                            Subject  Survey Result  \\\n",
       "0     ...           GMC 5 - Network Account - Unlock Account            NaN   \n",
       "1     ...  Computer Accessories Request Bundle for Chetan...            NaN   \n",
       "2     ...                Need to add blue flag to BI in PLM.            NaN   \n",
       "3     ...  Remote Verbindung zum Pusher ist nicht in Funk...            NaN   \n",
       "4     ...                          Q-Studio läuft nicht mehr            NaN   \n",
       "...   ...                                                ...            ...   \n",
       "8587  ...  Request for Rahul Patil : Siemens Teamcenter V...            NaN   \n",
       "8588  ...                                Dorda Petr (61071)             NaN   \n",
       "8589  ...                      Lohnschein Drucken geht nicht            NaN   \n",
       "8590  ...                  Reimbursement request not visible            NaN   \n",
       "8591  ...  Office 365 License Change & Email Request (O36...            NaN   \n",
       "\n",
       "                                                   Tags             Type  \\\n",
       "0                                          Edward Acuna         Incident   \n",
       "1              Computer Accessories Request,Sunil Dhebe  Service Request   \n",
       "2        Sunil Dhebe,Vishvanath Kadam,Release/Unrelease         Incident   \n",
       "3     Ieisha Alexander,Hans-Juergen Schenk,Christoph...  Service Request   \n",
       "4                       Oliver Kurz,Hans-Juergen Schenk         Incident   \n",
       "...                                                 ...              ...   \n",
       "8587                                                NaN  Service Request   \n",
       "8588                                                NaN         Incident   \n",
       "8589                                    Jackie Robinson         Incident   \n",
       "8590                                                NaN         Incident   \n",
       "8591                                                NaN  Service Request   \n",
       "\n",
       "     Time Tracked Last Updated Time           Updated By Urgency  \\\n",
       "0         0:00:00   11/12/2023 1:35         Edward Acuna     Low   \n",
       "1         0:00:00   11/12/2023 0:35          Sunil Dhebe     Low   \n",
       "2         0:00:00   11/18/2023 7:35     Vishvanath Kadam     Low   \n",
       "3         0:00:00   11/13/2023 9:36    Christoph Roessel     Low   \n",
       "4         0:00:00   11/12/2023 8:35  Hans-Juergen Schenk     Low   \n",
       "...           ...               ...                  ...     ...   \n",
       "8587      0:00:00    12/7/2023 0:27          Rahul Patil     Low   \n",
       "8588      0:00:00    12/7/2023 0:38         Petr Kocanda     Low   \n",
       "8589      0:00:00    12/7/2023 1:03      Jackie Robinson     Low   \n",
       "8590      0:00:00    12/7/2023 1:08     Harshal Sonawane     Low   \n",
       "8591      0:00:00    12/7/2023 1:10       Jose Contreras     Low   \n",
       "\n",
       "                       Workflow Field Zip_Postal Code  \n",
       "0                                 NaN           36100  \n",
       "1                         19000251677          411014  \n",
       "2                                 NaN          411014  \n",
       "3                                 NaN           77736  \n",
       "4                                 NaN           77736  \n",
       "...                               ...             ...  \n",
       "8587  Engineering Application Request          414301  \n",
       "8588                              NaN          664 12  \n",
       "8589                              NaN             NaN  \n",
       "8590                              NaN          411014  \n",
       "8591                              NaN           36100  \n",
       "\n",
       "[8592 rows x 73 columns]"
      ]
     },
     "execution_count": 3,
     "metadata": {},
     "output_type": "execute_result"
    }
   ],
   "source": [
    "data"
   ]
  },
  {
   "cell_type": "code",
   "execution_count": null,
   "id": "c2acfc29",
   "metadata": {},
   "outputs": [],
   "source": []
  },
  {
   "cell_type": "code",
   "execution_count": 4,
   "id": "dee6e0be",
   "metadata": {},
   "outputs": [
    {
     "data": {
      "text/html": [
       "<div>\n",
       "<style scoped>\n",
       "    .dataframe tbody tr th:only-of-type {\n",
       "        vertical-align: middle;\n",
       "    }\n",
       "\n",
       "    .dataframe tbody tr th {\n",
       "        vertical-align: top;\n",
       "    }\n",
       "\n",
       "    .dataframe thead th {\n",
       "        text-align: right;\n",
       "    }\n",
       "</style>\n",
       "<table border=\"1\" class=\"dataframe\">\n",
       "  <thead>\n",
       "    <tr style=\"text-align: right;\">\n",
       "      <th></th>\n",
       "      <th>AD OU Location</th>\n",
       "      <th>Affected User Business Unit</th>\n",
       "      <th>Affected User Company</th>\n",
       "      <th>Affected User Country</th>\n",
       "      <th>Affected User Location</th>\n",
       "      <th>Affected User Region</th>\n",
       "      <th>Alert Asset Name</th>\n",
       "      <th>Application Request</th>\n",
       "      <th>Approval Status</th>\n",
       "      <th>Approval Status.1</th>\n",
       "      <th>...</th>\n",
       "      <th>Subject</th>\n",
       "      <th>Survey Result</th>\n",
       "      <th>Tags</th>\n",
       "      <th>Type</th>\n",
       "      <th>Time Tracked</th>\n",
       "      <th>Last Updated Time</th>\n",
       "      <th>Updated By</th>\n",
       "      <th>Urgency</th>\n",
       "      <th>Workflow Field</th>\n",
       "      <th>Zip_Postal Code</th>\n",
       "    </tr>\n",
       "  </thead>\n",
       "  <tbody>\n",
       "    <tr>\n",
       "      <th>0</th>\n",
       "      <td>OU=Users,OU=GMC,OU=Mexico,OU=AAM-Global</td>\n",
       "      <td>Driveline</td>\n",
       "      <td>American Axle &amp; Manufacturing Inc</td>\n",
       "      <td>Mexico</td>\n",
       "      <td>Guanajuato Manufacturing - Plant 5</td>\n",
       "      <td>North America</td>\n",
       "      <td>NaN</td>\n",
       "      <td>NaN</td>\n",
       "      <td>NaN</td>\n",
       "      <td>Not Requested</td>\n",
       "      <td>...</td>\n",
       "      <td>GMC 5 - Network Account - Unlock Account</td>\n",
       "      <td>NaN</td>\n",
       "      <td>Edward Acuna</td>\n",
       "      <td>Incident</td>\n",
       "      <td>0:00:00</td>\n",
       "      <td>11/12/2023 1:35</td>\n",
       "      <td>Edward Acuna</td>\n",
       "      <td>Low</td>\n",
       "      <td>NaN</td>\n",
       "      <td>36100</td>\n",
       "    </tr>\n",
       "    <tr>\n",
       "      <th>1</th>\n",
       "      <td>OU=Users,OU=PNE,OU=Asia,OU=AAM-Global</td>\n",
       "      <td>Corporate - India</td>\n",
       "      <td>American Axle &amp; Manufacturing Inc</td>\n",
       "      <td>India</td>\n",
       "      <td>Pune Business Office &amp; Engineering Center</td>\n",
       "      <td>India</td>\n",
       "      <td>NaN</td>\n",
       "      <td>NaN</td>\n",
       "      <td>NaN</td>\n",
       "      <td>Not Requested</td>\n",
       "      <td>...</td>\n",
       "      <td>Computer Accessories Request Bundle for Chetan...</td>\n",
       "      <td>NaN</td>\n",
       "      <td>Computer Accessories Request,Sunil Dhebe</td>\n",
       "      <td>Service Request</td>\n",
       "      <td>0:00:00</td>\n",
       "      <td>11/12/2023 0:35</td>\n",
       "      <td>Sunil Dhebe</td>\n",
       "      <td>Low</td>\n",
       "      <td>19000251677</td>\n",
       "      <td>411014</td>\n",
       "    </tr>\n",
       "    <tr>\n",
       "      <th>2</th>\n",
       "      <td>OU=Users,OU=PNE,OU=Asia,OU=AAM-Global</td>\n",
       "      <td>Corporate - India</td>\n",
       "      <td>American Axle &amp; Manufacturing Inc</td>\n",
       "      <td>India</td>\n",
       "      <td>Pune Business Office &amp; Engineering Center</td>\n",
       "      <td>India</td>\n",
       "      <td>NaN</td>\n",
       "      <td>NaN</td>\n",
       "      <td>NaN</td>\n",
       "      <td>Not Requested</td>\n",
       "      <td>...</td>\n",
       "      <td>Need to add blue flag to BI in PLM.</td>\n",
       "      <td>NaN</td>\n",
       "      <td>Sunil Dhebe,Vishvanath Kadam,Release/Unrelease</td>\n",
       "      <td>Incident</td>\n",
       "      <td>0:00:00</td>\n",
       "      <td>11/18/2023 7:35</td>\n",
       "      <td>Vishvanath Kadam</td>\n",
       "      <td>Low</td>\n",
       "      <td>NaN</td>\n",
       "      <td>411014</td>\n",
       "    </tr>\n",
       "    <tr>\n",
       "      <th>3</th>\n",
       "      <td>OU=Users,OU=ZEL,OU=Europe,OU=AAM-Global</td>\n",
       "      <td>Metal Forming</td>\n",
       "      <td>NaN</td>\n",
       "      <td>Germany</td>\n",
       "      <td>Zell Manufacturing Facility</td>\n",
       "      <td>Europe</td>\n",
       "      <td>NaN</td>\n",
       "      <td>NaN</td>\n",
       "      <td>NaN</td>\n",
       "      <td>Not Requested</td>\n",
       "      <td>...</td>\n",
       "      <td>Remote Verbindung zum Pusher ist nicht in Funk...</td>\n",
       "      <td>NaN</td>\n",
       "      <td>Ieisha Alexander,Hans-Juergen Schenk,Christoph...</td>\n",
       "      <td>Service Request</td>\n",
       "      <td>0:00:00</td>\n",
       "      <td>11/13/2023 9:36</td>\n",
       "      <td>Christoph Roessel</td>\n",
       "      <td>Low</td>\n",
       "      <td>NaN</td>\n",
       "      <td>77736</td>\n",
       "    </tr>\n",
       "    <tr>\n",
       "      <th>4</th>\n",
       "      <td>OU=Users,OU=ZEL,OU=Europe,OU=AAM-Global</td>\n",
       "      <td>Metal Forming</td>\n",
       "      <td>American Axle &amp; Manufacturing Inc</td>\n",
       "      <td>Germany</td>\n",
       "      <td>Zell Manufacturing Facility</td>\n",
       "      <td>Europe</td>\n",
       "      <td>NaN</td>\n",
       "      <td>NaN</td>\n",
       "      <td>NaN</td>\n",
       "      <td>Not Requested</td>\n",
       "      <td>...</td>\n",
       "      <td>Q-Studio läuft nicht mehr</td>\n",
       "      <td>NaN</td>\n",
       "      <td>Oliver Kurz,Hans-Juergen Schenk</td>\n",
       "      <td>Incident</td>\n",
       "      <td>0:00:00</td>\n",
       "      <td>11/12/2023 8:35</td>\n",
       "      <td>Hans-Juergen Schenk</td>\n",
       "      <td>Low</td>\n",
       "      <td>NaN</td>\n",
       "      <td>77736</td>\n",
       "    </tr>\n",
       "  </tbody>\n",
       "</table>\n",
       "<p>5 rows × 73 columns</p>\n",
       "</div>"
      ],
      "text/plain": [
       "                            AD OU Location Affected User Business Unit  \\\n",
       "0  OU=Users,OU=GMC,OU=Mexico,OU=AAM-Global                   Driveline   \n",
       "1    OU=Users,OU=PNE,OU=Asia,OU=AAM-Global           Corporate - India   \n",
       "2    OU=Users,OU=PNE,OU=Asia,OU=AAM-Global           Corporate - India   \n",
       "3  OU=Users,OU=ZEL,OU=Europe,OU=AAM-Global               Metal Forming   \n",
       "4  OU=Users,OU=ZEL,OU=Europe,OU=AAM-Global               Metal Forming   \n",
       "\n",
       "               Affected User Company Affected User Country  \\\n",
       "0  American Axle & Manufacturing Inc                Mexico   \n",
       "1  American Axle & Manufacturing Inc                 India   \n",
       "2  American Axle & Manufacturing Inc                 India   \n",
       "3                                NaN               Germany   \n",
       "4  American Axle & Manufacturing Inc               Germany   \n",
       "\n",
       "                      Affected User Location Affected User Region  \\\n",
       "0         Guanajuato Manufacturing - Plant 5        North America   \n",
       "1  Pune Business Office & Engineering Center                India   \n",
       "2  Pune Business Office & Engineering Center                India   \n",
       "3                Zell Manufacturing Facility               Europe   \n",
       "4                Zell Manufacturing Facility               Europe   \n",
       "\n",
       "  Alert Asset Name  Application Request Approval Status Approval Status.1  \\\n",
       "0              NaN                  NaN             NaN     Not Requested   \n",
       "1              NaN                  NaN             NaN     Not Requested   \n",
       "2              NaN                  NaN             NaN     Not Requested   \n",
       "3              NaN                  NaN             NaN     Not Requested   \n",
       "4              NaN                  NaN             NaN     Not Requested   \n",
       "\n",
       "   ...                                            Subject  Survey Result  \\\n",
       "0  ...           GMC 5 - Network Account - Unlock Account            NaN   \n",
       "1  ...  Computer Accessories Request Bundle for Chetan...            NaN   \n",
       "2  ...                Need to add blue flag to BI in PLM.            NaN   \n",
       "3  ...  Remote Verbindung zum Pusher ist nicht in Funk...            NaN   \n",
       "4  ...                          Q-Studio läuft nicht mehr            NaN   \n",
       "\n",
       "                                                Tags             Type  \\\n",
       "0                                       Edward Acuna         Incident   \n",
       "1           Computer Accessories Request,Sunil Dhebe  Service Request   \n",
       "2     Sunil Dhebe,Vishvanath Kadam,Release/Unrelease         Incident   \n",
       "3  Ieisha Alexander,Hans-Juergen Schenk,Christoph...  Service Request   \n",
       "4                    Oliver Kurz,Hans-Juergen Schenk         Incident   \n",
       "\n",
       "  Time Tracked Last Updated Time           Updated By Urgency Workflow Field  \\\n",
       "0      0:00:00   11/12/2023 1:35         Edward Acuna     Low            NaN   \n",
       "1      0:00:00   11/12/2023 0:35          Sunil Dhebe     Low    19000251677   \n",
       "2      0:00:00   11/18/2023 7:35     Vishvanath Kadam     Low            NaN   \n",
       "3      0:00:00   11/13/2023 9:36    Christoph Roessel     Low            NaN   \n",
       "4      0:00:00   11/12/2023 8:35  Hans-Juergen Schenk     Low            NaN   \n",
       "\n",
       "  Zip_Postal Code  \n",
       "0           36100  \n",
       "1          411014  \n",
       "2          411014  \n",
       "3           77736  \n",
       "4           77736  \n",
       "\n",
       "[5 rows x 73 columns]"
      ]
     },
     "execution_count": 4,
     "metadata": {},
     "output_type": "execute_result"
    }
   ],
   "source": [
    "data.head()"
   ]
  },
  {
   "cell_type": "code",
   "execution_count": 141,
   "id": "f7f3be17",
   "metadata": {
    "scrolled": false
   },
   "outputs": [
    {
     "name": "stdout",
     "output_type": "stream",
     "text": [
      "<class 'pandas.core.frame.DataFrame'>\n",
      "RangeIndex: 8592 entries, 0 to 8591\n",
      "Data columns (total 2 columns):\n",
      " #   Column         Non-Null Count  Dtype \n",
      "---  ------         --------------  ----- \n",
      " 0   Combined_Text  8592 non-null   object\n",
      " 1   Group          8592 non-null   object\n",
      "dtypes: object(2)\n",
      "memory usage: 134.4+ KB\n"
     ]
    }
   ],
   "source": [
    "data.info()"
   ]
  },
  {
   "cell_type": "markdown",
   "id": "41ce76bc",
   "metadata": {},
   "source": [
    "###observing the data types of the columns present"
   ]
  },
  {
   "cell_type": "code",
   "execution_count": 140,
   "id": "36b2bb63",
   "metadata": {},
   "outputs": [
    {
     "name": "stdout",
     "output_type": "stream",
     "text": [
      "Column: Combined_Text, Data Type: object\n",
      "Column: Group, Data Type: object\n"
     ]
    }
   ],
   "source": [
    "for column in data.columns:\n",
    "    print(f\"Column: {column}, Data Type: {data[column].dtype}\")\n"
   ]
  },
  {
   "cell_type": "markdown",
   "id": "4d8e8f7f",
   "metadata": {},
   "source": [
    "### downloading all the word pre-processing techniques"
   ]
  },
  {
   "cell_type": "code",
   "execution_count": 5,
   "id": "3714d84e",
   "metadata": {},
   "outputs": [
    {
     "name": "stderr",
     "output_type": "stream",
     "text": [
      "[nltk_data] Downloading package punkt to\n",
      "[nltk_data]     C:\\Users\\sridhar\\AppData\\Roaming\\nltk_data...\n",
      "[nltk_data]   Package punkt is already up-to-date!\n",
      "[nltk_data] Downloading package stopwords to\n",
      "[nltk_data]     C:\\Users\\sridhar\\AppData\\Roaming\\nltk_data...\n",
      "[nltk_data]   Package stopwords is already up-to-date!\n",
      "[nltk_data] Downloading package wordnet to\n",
      "[nltk_data]     C:\\Users\\sridhar\\AppData\\Roaming\\nltk_data...\n",
      "[nltk_data]   Package wordnet is already up-to-date!\n"
     ]
    },
    {
     "data": {
      "text/plain": [
       "True"
      ]
     },
     "execution_count": 5,
     "metadata": {},
     "output_type": "execute_result"
    }
   ],
   "source": [
    "nltk.download('punkt')\n",
    "nltk.download('stopwords')\n",
    "nltk.download('wordnet')"
   ]
  },
  {
   "cell_type": "code",
   "execution_count": null,
   "id": "9289b6a8",
   "metadata": {},
   "outputs": [],
   "source": [
    "data.head()"
   ]
  },
  {
   "cell_type": "markdown",
   "id": "f8354dfc",
   "metadata": {},
   "source": [
    "### Determining the text columns which are closely related to the target variable called group"
   ]
  },
  {
   "cell_type": "code",
   "execution_count": 6,
   "id": "a5d7304a",
   "metadata": {},
   "outputs": [],
   "source": [
    "text_columns = ['Description', 'Category', 'Priority', 'Affected User Business Unit', 'Department', 'Employee Type', 'Source', 'Status','Affected User Location']"
   ]
  },
  {
   "cell_type": "markdown",
   "id": "c7852499",
   "metadata": {},
   "source": [
    "### combining the text columns and removing all the punctuations"
   ]
  },
  {
   "cell_type": "code",
   "execution_count": 7,
   "id": "5a670aff",
   "metadata": {},
   "outputs": [],
   "source": [
    "data['Combined_Text'] = data[text_columns].apply(lambda row: ' '.join([str(row[col]) for col in text_columns]), axis=1)"
   ]
  },
  {
   "cell_type": "markdown",
   "id": "6971470f",
   "metadata": {},
   "source": [
    "### here we are ready to use the combined_text as training and Group as testing data and combined text is the combination of all the independent variables"
   ]
  },
  {
   "cell_type": "code",
   "execution_count": 8,
   "id": "8843d9e4",
   "metadata": {
    "scrolled": false
   },
   "outputs": [],
   "source": [
    "relevant_columns = ['Combined_Text', 'Group']"
   ]
  },
  {
   "cell_type": "code",
   "execution_count": 9,
   "id": "5bea47b5",
   "metadata": {},
   "outputs": [
    {
     "name": "stdout",
     "output_type": "stream",
     "text": [
      "the relevant columns taken for group prediction: ['Combined_Text', 'Group']\n"
     ]
    }
   ],
   "source": [
    "print(\"the relevant columns taken for group prediction:\",relevant_columns)"
   ]
  },
  {
   "cell_type": "code",
   "execution_count": 10,
   "id": "b4eb45c3",
   "metadata": {},
   "outputs": [
    {
     "name": "stdout",
     "output_type": "stream",
     "text": [
      "the combined text is: 0       Unlock Account Network Low Driveline 8.0\" Fron...\n",
      "1       nan nan Low Corporate - India Product Engineer...\n",
      "2       Team, Please add blue flag to below BI's. Thes...\n",
      "3       nan nan Low Metal Forming Information Technolo...\n",
      "4       Q-Studio bringt Fehlermeldung: \"Q-Studio Infor...\n",
      "                              ...                        \n",
      "8587    Please use the \"Engineering Application Reques...\n",
      "8588    Dorda Petr (61071) nefunk?ní heslo do plex nan...\n",
      "8589    Ich kann kein Lohnschein ausdrucken. Grund im ...\n",
      "8590    oracle expense request not visible. kindly res...\n",
      "8591    nan nan Low Driveline Supply Chain Management ...\n",
      "Name: Combined_Text, Length: 8592, dtype: object\n"
     ]
    }
   ],
   "source": [
    "print(\"the combined text is:\",data['Combined_Text'] )"
   ]
  },
  {
   "cell_type": "code",
   "execution_count": 10,
   "id": "614c9b87",
   "metadata": {},
   "outputs": [],
   "source": [
    "#now dropping rows with missing values"
   ]
  },
  {
   "cell_type": "code",
   "execution_count": 11,
   "id": "c4d78e53",
   "metadata": {},
   "outputs": [],
   "source": [
    "data=data[relevant_columns].dropna(subset=['Combined_Text', 'Group'])"
   ]
  },
  {
   "cell_type": "code",
   "execution_count": 12,
   "id": "e76f5343",
   "metadata": {},
   "outputs": [
    {
     "data": {
      "text/html": [
       "<div>\n",
       "<style scoped>\n",
       "    .dataframe tbody tr th:only-of-type {\n",
       "        vertical-align: middle;\n",
       "    }\n",
       "\n",
       "    .dataframe tbody tr th {\n",
       "        vertical-align: top;\n",
       "    }\n",
       "\n",
       "    .dataframe thead th {\n",
       "        text-align: right;\n",
       "    }\n",
       "</style>\n",
       "<table border=\"1\" class=\"dataframe\">\n",
       "  <thead>\n",
       "    <tr style=\"text-align: right;\">\n",
       "      <th></th>\n",
       "      <th>Combined_Text</th>\n",
       "      <th>Group</th>\n",
       "    </tr>\n",
       "  </thead>\n",
       "  <tbody>\n",
       "    <tr>\n",
       "      <th>0</th>\n",
       "      <td>Unlock Account Network Low Driveline 8.0\" Fron...</td>\n",
       "      <td>GMC - IT Site Support</td>\n",
       "    </tr>\n",
       "    <tr>\n",
       "      <th>1</th>\n",
       "      <td>nan nan Low Corporate - India Product Engineer...</td>\n",
       "      <td>India - Service Desk</td>\n",
       "    </tr>\n",
       "    <tr>\n",
       "      <th>2</th>\n",
       "      <td>Team, Please add blue flag to below BI's. Thes...</td>\n",
       "      <td>ENG - PLM Support</td>\n",
       "    </tr>\n",
       "    <tr>\n",
       "      <th>3</th>\n",
       "      <td>nan nan Low Metal Forming Information Technolo...</td>\n",
       "      <td>ZGMF - IT Site Support</td>\n",
       "    </tr>\n",
       "    <tr>\n",
       "      <th>4</th>\n",
       "      <td>Q-Studio bringt Fehlermeldung: \"Q-Studio Infor...</td>\n",
       "      <td>ZGMF - IT Site Support</td>\n",
       "    </tr>\n",
       "    <tr>\n",
       "      <th>...</th>\n",
       "      <td>...</td>\n",
       "      <td>...</td>\n",
       "    </tr>\n",
       "    <tr>\n",
       "      <th>8587</th>\n",
       "      <td>Please use the \"Engineering Application Reques...</td>\n",
       "      <td>No Group</td>\n",
       "    </tr>\n",
       "    <tr>\n",
       "      <th>8588</th>\n",
       "      <td>Dorda Petr (61071) nefunk?ní heslo do plex nan...</td>\n",
       "      <td>Europe - Service Desk</td>\n",
       "    </tr>\n",
       "    <tr>\n",
       "      <th>8589</th>\n",
       "      <td>Ich kann kein Lohnschein ausdrucken. Grund im ...</td>\n",
       "      <td>HGMF - IT Site Support</td>\n",
       "    </tr>\n",
       "    <tr>\n",
       "      <th>8590</th>\n",
       "      <td>oracle expense request not visible. kindly res...</td>\n",
       "      <td>India - Service Desk</td>\n",
       "    </tr>\n",
       "    <tr>\n",
       "      <th>8591</th>\n",
       "      <td>nan nan Low Driveline Supply Chain Management ...</td>\n",
       "      <td>No Group</td>\n",
       "    </tr>\n",
       "  </tbody>\n",
       "</table>\n",
       "<p>8592 rows × 2 columns</p>\n",
       "</div>"
      ],
      "text/plain": [
       "                                          Combined_Text  \\\n",
       "0     Unlock Account Network Low Driveline 8.0\" Fron...   \n",
       "1     nan nan Low Corporate - India Product Engineer...   \n",
       "2     Team, Please add blue flag to below BI's. Thes...   \n",
       "3     nan nan Low Metal Forming Information Technolo...   \n",
       "4     Q-Studio bringt Fehlermeldung: \"Q-Studio Infor...   \n",
       "...                                                 ...   \n",
       "8587  Please use the \"Engineering Application Reques...   \n",
       "8588  Dorda Petr (61071) nefunk?ní heslo do plex nan...   \n",
       "8589  Ich kann kein Lohnschein ausdrucken. Grund im ...   \n",
       "8590  oracle expense request not visible. kindly res...   \n",
       "8591  nan nan Low Driveline Supply Chain Management ...   \n",
       "\n",
       "                       Group  \n",
       "0      GMC - IT Site Support  \n",
       "1       India - Service Desk  \n",
       "2          ENG - PLM Support  \n",
       "3     ZGMF - IT Site Support  \n",
       "4     ZGMF - IT Site Support  \n",
       "...                      ...  \n",
       "8587                No Group  \n",
       "8588   Europe - Service Desk  \n",
       "8589  HGMF - IT Site Support  \n",
       "8590    India - Service Desk  \n",
       "8591                No Group  \n",
       "\n",
       "[8592 rows x 2 columns]"
      ]
     },
     "execution_count": 12,
     "metadata": {},
     "output_type": "execute_result"
    }
   ],
   "source": [
    "data"
   ]
  },
  {
   "cell_type": "markdown",
   "id": "e8803cd1",
   "metadata": {},
   "source": [
    "### applying the most important process of converting words into it's simple root form for the model to understand the words easily"
   ]
  },
  {
   "cell_type": "code",
   "execution_count": 13,
   "id": "aa4f3c5d",
   "metadata": {},
   "outputs": [],
   "source": [
    "lemmatizer = WordNetLemmatizer()"
   ]
  },
  {
   "cell_type": "markdown",
   "id": "1178da49",
   "metadata": {},
   "source": [
    "### printing to check whether lemmatizer is applied successfully or not"
   ]
  },
  {
   "cell_type": "code",
   "execution_count": 14,
   "id": "0aa6f2b8",
   "metadata": {},
   "outputs": [
    {
     "data": {
      "text/plain": [
       "<WordNetLemmatizer>"
      ]
     },
     "execution_count": 14,
     "metadata": {},
     "output_type": "execute_result"
    }
   ],
   "source": [
    "lemmatizer"
   ]
  },
  {
   "cell_type": "markdown",
   "id": "57884783",
   "metadata": {},
   "source": [
    "### from the above lemmatization applying this lemmatization to all of the combined independent variables closely related to the target variable iterating through each word and applying lemmatization process"
   ]
  },
  {
   "cell_type": "code",
   "execution_count": 15,
   "id": "2389d318",
   "metadata": {},
   "outputs": [],
   "source": [
    "data['Combined_Text'] = data['Combined_Text'].apply(lambda x: ' '.join([lemmatizer.lemmatize(word) for word in word_tokenize(str(x))]))"
   ]
  },
  {
   "cell_type": "markdown",
   "id": "4a071f59",
   "metadata": {},
   "source": [
    "### observing the number of rows in the dataset using the shape function"
   ]
  },
  {
   "cell_type": "code",
   "execution_count": 16,
   "id": "7910df22",
   "metadata": {},
   "outputs": [
    {
     "data": {
      "text/plain": [
       "(8592, 2)"
      ]
     },
     "execution_count": 16,
     "metadata": {},
     "output_type": "execute_result"
    }
   ],
   "source": [
    "data.shape"
   ]
  },
  {
   "cell_type": "code",
   "execution_count": null,
   "id": "ba54e393",
   "metadata": {},
   "outputs": [],
   "source": []
  },
  {
   "cell_type": "code",
   "execution_count": null,
   "id": "ea1245e5",
   "metadata": {},
   "outputs": [],
   "source": []
  },
  {
   "cell_type": "code",
   "execution_count": null,
   "id": "49cfc641",
   "metadata": {},
   "outputs": [],
   "source": []
  },
  {
   "cell_type": "code",
   "execution_count": null,
   "id": "62d010c7",
   "metadata": {},
   "outputs": [],
   "source": []
  },
  {
   "cell_type": "code",
   "execution_count": null,
   "id": "3ad52655",
   "metadata": {},
   "outputs": [],
   "source": []
  },
  {
   "cell_type": "code",
   "execution_count": null,
   "id": "b6d01b22",
   "metadata": {},
   "outputs": [],
   "source": []
  },
  {
   "cell_type": "code",
   "execution_count": null,
   "id": "38548998",
   "metadata": {},
   "outputs": [],
   "source": []
  },
  {
   "cell_type": "code",
   "execution_count": null,
   "id": "a4c90088",
   "metadata": {},
   "outputs": [],
   "source": []
  },
  {
   "cell_type": "code",
   "execution_count": null,
   "id": "acca4717",
   "metadata": {},
   "outputs": [],
   "source": []
  },
  {
   "cell_type": "code",
   "execution_count": null,
   "id": "4cf1b285",
   "metadata": {},
   "outputs": [],
   "source": []
  },
  {
   "cell_type": "code",
   "execution_count": null,
   "id": "fd767c83",
   "metadata": {},
   "outputs": [],
   "source": []
  },
  {
   "cell_type": "code",
   "execution_count": null,
   "id": "27251994",
   "metadata": {},
   "outputs": [],
   "source": []
  },
  {
   "cell_type": "code",
   "execution_count": null,
   "id": "fef89f55",
   "metadata": {},
   "outputs": [],
   "source": []
  },
  {
   "cell_type": "code",
   "execution_count": null,
   "id": "03a39a5b",
   "metadata": {},
   "outputs": [],
   "source": []
  },
  {
   "cell_type": "code",
   "execution_count": null,
   "id": "0c88561c",
   "metadata": {},
   "outputs": [],
   "source": []
  },
  {
   "cell_type": "code",
   "execution_count": null,
   "id": "0fefa9ae",
   "metadata": {},
   "outputs": [],
   "source": []
  },
  {
   "cell_type": "code",
   "execution_count": null,
   "id": "c1e546ec",
   "metadata": {},
   "outputs": [],
   "source": []
  },
  {
   "cell_type": "code",
   "execution_count": null,
   "id": "39321caa",
   "metadata": {},
   "outputs": [],
   "source": []
  },
  {
   "cell_type": "code",
   "execution_count": null,
   "id": "351f2f9c",
   "metadata": {},
   "outputs": [],
   "source": []
  },
  {
   "cell_type": "code",
   "execution_count": null,
   "id": "a304c5fe",
   "metadata": {},
   "outputs": [],
   "source": []
  },
  {
   "cell_type": "code",
   "execution_count": null,
   "id": "0feabc26",
   "metadata": {},
   "outputs": [],
   "source": []
  },
  {
   "cell_type": "code",
   "execution_count": null,
   "id": "c5c3463c",
   "metadata": {},
   "outputs": [],
   "source": []
  },
  {
   "cell_type": "code",
   "execution_count": null,
   "id": "d911bea0",
   "metadata": {},
   "outputs": [],
   "source": []
  },
  {
   "cell_type": "code",
   "execution_count": null,
   "id": "0bddd9c7",
   "metadata": {},
   "outputs": [],
   "source": []
  },
  {
   "cell_type": "code",
   "execution_count": null,
   "id": "f7daec1d",
   "metadata": {},
   "outputs": [],
   "source": []
  },
  {
   "cell_type": "code",
   "execution_count": null,
   "id": "124f37ab",
   "metadata": {},
   "outputs": [],
   "source": []
  },
  {
   "cell_type": "code",
   "execution_count": null,
   "id": "f8322831",
   "metadata": {},
   "outputs": [],
   "source": []
  },
  {
   "cell_type": "code",
   "execution_count": null,
   "id": "a77550af",
   "metadata": {},
   "outputs": [],
   "source": []
  },
  {
   "cell_type": "code",
   "execution_count": null,
   "id": "54cd2400",
   "metadata": {},
   "outputs": [],
   "source": []
  },
  {
   "cell_type": "code",
   "execution_count": null,
   "id": "afb8aeb7",
   "metadata": {},
   "outputs": [],
   "source": []
  },
  {
   "cell_type": "code",
   "execution_count": null,
   "id": "155cc652",
   "metadata": {},
   "outputs": [],
   "source": []
  },
  {
   "cell_type": "code",
   "execution_count": null,
   "id": "52cae1bd",
   "metadata": {},
   "outputs": [],
   "source": []
  },
  {
   "cell_type": "code",
   "execution_count": null,
   "id": "174ae649",
   "metadata": {},
   "outputs": [],
   "source": []
  },
  {
   "cell_type": "code",
   "execution_count": null,
   "id": "06af392d",
   "metadata": {},
   "outputs": [],
   "source": []
  },
  {
   "cell_type": "code",
   "execution_count": null,
   "id": "8cc97291",
   "metadata": {},
   "outputs": [],
   "source": []
  },
  {
   "cell_type": "code",
   "execution_count": null,
   "id": "08d4ef70",
   "metadata": {},
   "outputs": [],
   "source": []
  },
  {
   "cell_type": "code",
   "execution_count": null,
   "id": "13dc3872",
   "metadata": {},
   "outputs": [],
   "source": []
  },
  {
   "cell_type": "code",
   "execution_count": null,
   "id": "acd7be9e",
   "metadata": {},
   "outputs": [],
   "source": []
  },
  {
   "cell_type": "code",
   "execution_count": null,
   "id": "2ea89edd",
   "metadata": {},
   "outputs": [],
   "source": []
  },
  {
   "cell_type": "code",
   "execution_count": null,
   "id": "3c4e51c2",
   "metadata": {},
   "outputs": [],
   "source": []
  },
  {
   "cell_type": "code",
   "execution_count": null,
   "id": "8f927ab7",
   "metadata": {},
   "outputs": [],
   "source": []
  },
  {
   "cell_type": "code",
   "execution_count": null,
   "id": "8d2a7695",
   "metadata": {},
   "outputs": [],
   "source": []
  },
  {
   "cell_type": "code",
   "execution_count": null,
   "id": "72f4f4c1",
   "metadata": {},
   "outputs": [],
   "source": []
  },
  {
   "cell_type": "code",
   "execution_count": null,
   "id": "3174c9da",
   "metadata": {},
   "outputs": [],
   "source": []
  },
  {
   "cell_type": "code",
   "execution_count": null,
   "id": "f222e17a",
   "metadata": {},
   "outputs": [],
   "source": []
  },
  {
   "cell_type": "code",
   "execution_count": null,
   "id": "d701675e",
   "metadata": {},
   "outputs": [],
   "source": []
  },
  {
   "cell_type": "code",
   "execution_count": null,
   "id": "fee383d0",
   "metadata": {},
   "outputs": [],
   "source": []
  },
  {
   "cell_type": "code",
   "execution_count": null,
   "id": "f7c91e6f",
   "metadata": {},
   "outputs": [],
   "source": []
  },
  {
   "cell_type": "code",
   "execution_count": null,
   "id": "db83d03e",
   "metadata": {},
   "outputs": [],
   "source": []
  },
  {
   "cell_type": "code",
   "execution_count": null,
   "id": "69c617db",
   "metadata": {},
   "outputs": [],
   "source": []
  },
  {
   "cell_type": "code",
   "execution_count": null,
   "id": "b19d4e0a",
   "metadata": {},
   "outputs": [],
   "source": []
  },
  {
   "cell_type": "code",
   "execution_count": null,
   "id": "8c3d4d43",
   "metadata": {},
   "outputs": [],
   "source": []
  },
  {
   "cell_type": "code",
   "execution_count": null,
   "id": "7215c3ce",
   "metadata": {},
   "outputs": [],
   "source": []
  },
  {
   "cell_type": "code",
   "execution_count": null,
   "id": "08cf6bb9",
   "metadata": {},
   "outputs": [],
   "source": []
  },
  {
   "cell_type": "code",
   "execution_count": null,
   "id": "f2bb78d2",
   "metadata": {},
   "outputs": [],
   "source": []
  },
  {
   "cell_type": "code",
   "execution_count": null,
   "id": "b84561e2",
   "metadata": {},
   "outputs": [],
   "source": []
  },
  {
   "cell_type": "code",
   "execution_count": null,
   "id": "dfdc1c91",
   "metadata": {},
   "outputs": [],
   "source": []
  },
  {
   "cell_type": "code",
   "execution_count": null,
   "id": "ef969491",
   "metadata": {},
   "outputs": [],
   "source": []
  },
  {
   "cell_type": "code",
   "execution_count": null,
   "id": "8ee28b61",
   "metadata": {},
   "outputs": [],
   "source": []
  },
  {
   "cell_type": "code",
   "execution_count": null,
   "id": "5f93608b",
   "metadata": {},
   "outputs": [],
   "source": []
  },
  {
   "cell_type": "code",
   "execution_count": null,
   "id": "d772b32e",
   "metadata": {},
   "outputs": [],
   "source": []
  },
  {
   "cell_type": "code",
   "execution_count": null,
   "id": "567a3845",
   "metadata": {},
   "outputs": [],
   "source": []
  },
  {
   "cell_type": "code",
   "execution_count": null,
   "id": "e826954a",
   "metadata": {},
   "outputs": [],
   "source": []
  },
  {
   "cell_type": "code",
   "execution_count": null,
   "id": "982e31bd",
   "metadata": {},
   "outputs": [],
   "source": []
  },
  {
   "cell_type": "code",
   "execution_count": null,
   "id": "6f441a41",
   "metadata": {},
   "outputs": [],
   "source": []
  },
  {
   "cell_type": "code",
   "execution_count": null,
   "id": "69e89169",
   "metadata": {},
   "outputs": [],
   "source": []
  },
  {
   "cell_type": "code",
   "execution_count": null,
   "id": "2aa639ac",
   "metadata": {},
   "outputs": [],
   "source": []
  },
  {
   "cell_type": "code",
   "execution_count": null,
   "id": "6496b96b",
   "metadata": {},
   "outputs": [],
   "source": []
  },
  {
   "cell_type": "code",
   "execution_count": null,
   "id": "f09e1b03",
   "metadata": {},
   "outputs": [],
   "source": []
  },
  {
   "cell_type": "code",
   "execution_count": null,
   "id": "5cbbffe3",
   "metadata": {},
   "outputs": [],
   "source": []
  },
  {
   "cell_type": "code",
   "execution_count": null,
   "id": "c638d987",
   "metadata": {},
   "outputs": [],
   "source": []
  },
  {
   "cell_type": "code",
   "execution_count": null,
   "id": "437536c0",
   "metadata": {},
   "outputs": [],
   "source": []
  },
  {
   "cell_type": "code",
   "execution_count": null,
   "id": "fb71ec03",
   "metadata": {},
   "outputs": [],
   "source": []
  },
  {
   "cell_type": "code",
   "execution_count": null,
   "id": "4677e960",
   "metadata": {},
   "outputs": [],
   "source": []
  },
  {
   "cell_type": "code",
   "execution_count": null,
   "id": "31b820d9",
   "metadata": {},
   "outputs": [],
   "source": []
  },
  {
   "cell_type": "code",
   "execution_count": null,
   "id": "39fe7c38",
   "metadata": {},
   "outputs": [],
   "source": []
  },
  {
   "cell_type": "code",
   "execution_count": null,
   "id": "b554d294",
   "metadata": {},
   "outputs": [],
   "source": []
  },
  {
   "cell_type": "code",
   "execution_count": null,
   "id": "9837e865",
   "metadata": {},
   "outputs": [],
   "source": []
  },
  {
   "cell_type": "code",
   "execution_count": null,
   "id": "2f50338a",
   "metadata": {},
   "outputs": [],
   "source": []
  },
  {
   "cell_type": "code",
   "execution_count": null,
   "id": "7eed0d5c",
   "metadata": {},
   "outputs": [],
   "source": []
  },
  {
   "cell_type": "code",
   "execution_count": null,
   "id": "0b784eb3",
   "metadata": {},
   "outputs": [],
   "source": []
  },
  {
   "cell_type": "code",
   "execution_count": null,
   "id": "a7ed721b",
   "metadata": {},
   "outputs": [],
   "source": []
  },
  {
   "cell_type": "code",
   "execution_count": null,
   "id": "988f1eb0",
   "metadata": {},
   "outputs": [],
   "source": []
  },
  {
   "cell_type": "code",
   "execution_count": null,
   "id": "63f25811",
   "metadata": {},
   "outputs": [],
   "source": []
  },
  {
   "cell_type": "code",
   "execution_count": null,
   "id": "4586cc5a",
   "metadata": {},
   "outputs": [],
   "source": []
  },
  {
   "cell_type": "code",
   "execution_count": null,
   "id": "f1debce5",
   "metadata": {},
   "outputs": [],
   "source": []
  },
  {
   "cell_type": "code",
   "execution_count": null,
   "id": "a89e83eb",
   "metadata": {},
   "outputs": [],
   "source": []
  },
  {
   "cell_type": "code",
   "execution_count": null,
   "id": "0b7339d5",
   "metadata": {},
   "outputs": [],
   "source": []
  },
  {
   "cell_type": "code",
   "execution_count": null,
   "id": "7a19cf3b",
   "metadata": {},
   "outputs": [],
   "source": []
  },
  {
   "cell_type": "code",
   "execution_count": null,
   "id": "5f690c71",
   "metadata": {},
   "outputs": [],
   "source": []
  },
  {
   "cell_type": "code",
   "execution_count": null,
   "id": "70ec64c7",
   "metadata": {},
   "outputs": [],
   "source": []
  },
  {
   "cell_type": "code",
   "execution_count": null,
   "id": "6bd07a4c",
   "metadata": {},
   "outputs": [],
   "source": []
  },
  {
   "cell_type": "code",
   "execution_count": null,
   "id": "e19defaf",
   "metadata": {},
   "outputs": [],
   "source": []
  },
  {
   "cell_type": "code",
   "execution_count": null,
   "id": "0df82d7f",
   "metadata": {},
   "outputs": [],
   "source": []
  },
  {
   "cell_type": "code",
   "execution_count": null,
   "id": "32b8a6cc",
   "metadata": {},
   "outputs": [],
   "source": []
  },
  {
   "cell_type": "code",
   "execution_count": null,
   "id": "31cf2376",
   "metadata": {},
   "outputs": [],
   "source": []
  },
  {
   "cell_type": "code",
   "execution_count": null,
   "id": "92ed262a",
   "metadata": {},
   "outputs": [],
   "source": []
  },
  {
   "cell_type": "code",
   "execution_count": null,
   "id": "e03f13d3",
   "metadata": {},
   "outputs": [],
   "source": []
  },
  {
   "cell_type": "code",
   "execution_count": null,
   "id": "2836402d",
   "metadata": {},
   "outputs": [],
   "source": []
  },
  {
   "cell_type": "code",
   "execution_count": null,
   "id": "d30208bb",
   "metadata": {},
   "outputs": [],
   "source": []
  },
  {
   "cell_type": "code",
   "execution_count": null,
   "id": "21b7e18b",
   "metadata": {},
   "outputs": [],
   "source": []
  },
  {
   "cell_type": "code",
   "execution_count": null,
   "id": "a54bce07",
   "metadata": {},
   "outputs": [],
   "source": []
  },
  {
   "cell_type": "code",
   "execution_count": null,
   "id": "929a1531",
   "metadata": {},
   "outputs": [],
   "source": [
    "from sklearn.preprocessing import LabelEncoder\n",
    "from sklearn.linear_model import LogisticRegression"
   ]
  },
  {
   "cell_type": "code",
   "execution_count": null,
   "id": "7ccacd9e",
   "metadata": {},
   "outputs": [],
   "source": [
    "count_vectorizer = CountVectorizer()\n",
    "X_train_bow = count_vectorizer.fit_transform(X_train)\n",
    "X_test_bow = count_vectorizer.transform(X_test)"
   ]
  },
  {
   "cell_type": "code",
   "execution_count": null,
   "id": "5212aad3",
   "metadata": {},
   "outputs": [],
   "source": [
    "logistic_regression_classifier = LogisticRegression()\n",
    "logistic_regression_classifier.fit(X_train_bow, y_train)"
   ]
  },
  {
   "cell_type": "code",
   "execution_count": null,
   "id": "e007b40e",
   "metadata": {},
   "outputs": [],
   "source": [
    "y_pred = logistic_regression_classifier.predict(X_test_bow)"
   ]
  },
  {
   "cell_type": "code",
   "execution_count": null,
   "id": "284eb6cf",
   "metadata": {},
   "outputs": [],
   "source": [
    "accuracy = accuracy_score(y_test, y_pred)\n",
    "classification_rep = classification_report(y_test, y_pred)\n",
    "conf_matrix = confusion_matrix(y_test, y_pred)"
   ]
  },
  {
   "cell_type": "code",
   "execution_count": null,
   "id": "b40dc8e3",
   "metadata": {},
   "outputs": [],
   "source": [
    "print(\"Accuracy:\", accuracy)\n",
    "print(\"\\nClassification Report:\\n\", classification_rep)\n",
    "print(\"\\nConfusion Matrix:\\n\", conf_matrix)"
   ]
  },
  {
   "cell_type": "code",
   "execution_count": null,
   "id": "1ead5dbf",
   "metadata": {},
   "outputs": [],
   "source": [
    "new_ticket_data = {\n",
    "    'Description': \"User reporting login issue\",\n",
    "    'Category': \"Login\",\n",
    "    'Priority': \"High\",\n",
    "    'Affected User Business Unit': \"IT\",\n",
    "    'Department': \"Support\",\n",
    "    'Employee Type': \"Full-time\",\n",
    "    'Source': \"Web\",\n",
    "    'Status': \"Open\",\n",
    "    'Affected User Location':\"europe Manufacturing Facility\"\n",
    "    \n",
    "}"
   ]
  },
  {
   "cell_type": "code",
   "execution_count": null,
   "id": "0c738ba0",
   "metadata": {},
   "outputs": [],
   "source": [
    "new_ticket_text = ' '.join([str(new_ticket_data[col]) for col in text_columns])\n",
    "new_ticket_bow = count_vectorizer.transform([new_ticket_text])\n",
    "predicted_team = logistic_regression_classifier.predict(new_ticket_bow)"
   ]
  },
  {
   "cell_type": "code",
   "execution_count": null,
   "id": "3df0abb3",
   "metadata": {},
   "outputs": [],
   "source": [
    "predicted_team_category = label_encoder.inverse_transform(predicted_team)"
   ]
  },
  {
   "cell_type": "code",
   "execution_count": null,
   "id": "6b43d1a4",
   "metadata": {
    "scrolled": true
   },
   "outputs": [],
   "source": [
    "predicted_team_category"
   ]
  },
  {
   "cell_type": "code",
   "execution_count": null,
   "id": "bf74cbb1",
   "metadata": {},
   "outputs": [],
   "source": [
    "#11th december"
   ]
  },
  {
   "cell_type": "code",
   "execution_count": null,
   "id": "d8aafa83",
   "metadata": {},
   "outputs": [],
   "source": [
    "from sklearn.ensemble import RandomForestClassifier"
   ]
  },
  {
   "cell_type": "code",
   "execution_count": null,
   "id": "2e7059ca",
   "metadata": {},
   "outputs": [],
   "source": [
    "data.info()"
   ]
  },
  {
   "cell_type": "code",
   "execution_count": null,
   "id": "cca8d4a0",
   "metadata": {},
   "outputs": [],
   "source": [
    "test_size = 0.3"
   ]
  },
  {
   "cell_type": "code",
   "execution_count": null,
   "id": "37e7f3f2",
   "metadata": {},
   "outputs": [],
   "source": [
    "X_train,X_test,y_train,y_test = train_test_split(data['Combined_Text'],data['Group'],test_size = test_size,random_state=42)"
   ]
  },
  {
   "cell_type": "code",
   "execution_count": null,
   "id": "eb311261",
   "metadata": {},
   "outputs": [],
   "source": [
    "X_train,X_test,y_train,y_test"
   ]
  },
  {
   "cell_type": "code",
   "execution_count": null,
   "id": "74910937",
   "metadata": {},
   "outputs": [],
   "source": [
    "count_vectorizer_for_random = CountVectorizer()"
   ]
  },
  {
   "cell_type": "code",
   "execution_count": null,
   "id": "08ac5230",
   "metadata": {},
   "outputs": [],
   "source": [
    "X_train_random = count_vectorizer_for_random.fit_transform(X_train)"
   ]
  },
  {
   "cell_type": "code",
   "execution_count": null,
   "id": "89ee9b68",
   "metadata": {},
   "outputs": [],
   "source": [
    "X_test_random = count_vectorizer_for_random.transform(X_test)"
   ]
  },
  {
   "cell_type": "code",
   "execution_count": null,
   "id": "aaf72276",
   "metadata": {},
   "outputs": [],
   "source": [
    "rf_classifier = RandomForestClassifier(random_state=42)"
   ]
  },
  {
   "cell_type": "code",
   "execution_count": null,
   "id": "d1d64136",
   "metadata": {},
   "outputs": [],
   "source": [
    "rf_classifier"
   ]
  },
  {
   "cell_type": "code",
   "execution_count": null,
   "id": "93106c0d",
   "metadata": {},
   "outputs": [],
   "source": [
    "rf_classifier.fit(X_train_random,y_train)"
   ]
  },
  {
   "cell_type": "code",
   "execution_count": null,
   "id": "0246350c",
   "metadata": {},
   "outputs": [],
   "source": [
    "y_prediction_random = rf_classifier.predict(X_test_random)"
   ]
  },
  {
   "cell_type": "code",
   "execution_count": null,
   "id": "f868dc78",
   "metadata": {},
   "outputs": [],
   "source": [
    "y_prediction_random"
   ]
  },
  {
   "cell_type": "code",
   "execution_count": null,
   "id": "918467cb",
   "metadata": {},
   "outputs": [],
   "source": [
    "accuracy_rf = accuracy_score(y_test, y_prediction_random)"
   ]
  },
  {
   "cell_type": "code",
   "execution_count": null,
   "id": "d987ff72",
   "metadata": {},
   "outputs": [],
   "source": [
    "print(\"accuracy is:\",accuracy_rf)"
   ]
  },
  {
   "cell_type": "code",
   "execution_count": null,
   "id": "5c100900",
   "metadata": {},
   "outputs": [],
   "source": [
    "new_ticket_data = {\n",
    "    'Description': \"User reporting login issue\",\n",
    "    'Category': \"Login\",\n",
    "    'Priority': \"High\",\n",
    "    'Affected User Business Unit': \"IT\",\n",
    "    'Department': \"Support\",\n",
    "    'Employee Type': \"Full-time\",\n",
    "    'Source': \"Web\",\n",
    "    'Status': \"Open\",\n",
    "    'Affected User Location':\"europe Manufacturing Facility\"\n",
    "    \n",
    "}"
   ]
  },
  {
   "cell_type": "code",
   "execution_count": null,
   "id": "6da088f3",
   "metadata": {},
   "outputs": [],
   "source": [
    "new_ticket_text = ' '.join([str(new_ticket_data[col]) for col in text_columns])\n",
    "new_ticket_bow = count_vectorizer_for_random.transform([new_ticket_text])\n",
    "predicted_team = rf_classifier.predict(new_ticket_bow)"
   ]
  },
  {
   "cell_type": "code",
   "execution_count": null,
   "id": "eed5f258",
   "metadata": {},
   "outputs": [],
   "source": [
    "new_ticket_text"
   ]
  },
  {
   "cell_type": "code",
   "execution_count": null,
   "id": "67708746",
   "metadata": {},
   "outputs": [],
   "source": [
    "new_ticket_bow"
   ]
  },
  {
   "cell_type": "code",
   "execution_count": null,
   "id": "9c9d292a",
   "metadata": {},
   "outputs": [],
   "source": [
    "predicted_team"
   ]
  },
  {
   "cell_type": "code",
   "execution_count": null,
   "id": "7d79f9c3",
   "metadata": {},
   "outputs": [],
   "source": []
  },
  {
   "cell_type": "code",
   "execution_count": null,
   "id": "5a3fc43b",
   "metadata": {},
   "outputs": [],
   "source": [
    "#using xgboost"
   ]
  },
  {
   "cell_type": "code",
   "execution_count": null,
   "id": "d4e6752f",
   "metadata": {},
   "outputs": [],
   "source": [
    "!pip install xgboost nltk"
   ]
  },
  {
   "cell_type": "code",
   "execution_count": null,
   "id": "ed61f739",
   "metadata": {},
   "outputs": [],
   "source": [
    "from xgboost import XGBClassifier"
   ]
  },
  {
   "cell_type": "code",
   "execution_count": null,
   "id": "d981a3f3",
   "metadata": {},
   "outputs": [],
   "source": [
    "test_size = 0.3"
   ]
  },
  {
   "cell_type": "code",
   "execution_count": null,
   "id": "22591690",
   "metadata": {},
   "outputs": [],
   "source": [
    "X_train,X_test,y_train,y_test = train_test_split(data['Combined_Text'],data['Group'],test_size = test_size, random_state=42)"
   ]
  },
  {
   "cell_type": "code",
   "execution_count": null,
   "id": "23805c8f",
   "metadata": {},
   "outputs": [],
   "source": [
    "count_vectorizer = CountVectorizer()"
   ]
  },
  {
   "cell_type": "code",
   "execution_count": null,
   "id": "31c8a9cc",
   "metadata": {},
   "outputs": [],
   "source": [
    "X_train_xg = count_vectorizer.fit_transform(X_train)\n"
   ]
  },
  {
   "cell_type": "code",
   "execution_count": null,
   "id": "fcde75ca",
   "metadata": {},
   "outputs": [],
   "source": [
    "X_test_xg = count_vectorizer.transform(X_test)"
   ]
  },
  {
   "cell_type": "code",
   "execution_count": null,
   "id": "2bc8719e",
   "metadata": {},
   "outputs": [],
   "source": [
    "label_encoder = LabelEncoder()"
   ]
  },
  {
   "cell_type": "code",
   "execution_count": null,
   "id": "c5443882",
   "metadata": {},
   "outputs": [],
   "source": [
    "y_train_encoded = label_encoder.fit_transform(y_train)"
   ]
  },
  {
   "cell_type": "code",
   "execution_count": null,
   "id": "5d5ee40b",
   "metadata": {},
   "outputs": [],
   "source": [
    "xgb_classifier = XGBClassifier()"
   ]
  },
  {
   "cell_type": "code",
   "execution_count": null,
   "id": "6002fa44",
   "metadata": {},
   "outputs": [],
   "source": [
    "xgb_classifier.fit(X_train_xg, y_train_encoded)"
   ]
  },
  {
   "cell_type": "code",
   "execution_count": null,
   "id": "be92873c",
   "metadata": {},
   "outputs": [],
   "source": [
    "y_pred_encoded = xgb_classifier.predict(X_test_xg)"
   ]
  },
  {
   "cell_type": "code",
   "execution_count": null,
   "id": "ffe8f123",
   "metadata": {},
   "outputs": [],
   "source": [
    "y_pred_encoded"
   ]
  },
  {
   "cell_type": "code",
   "execution_count": null,
   "id": "46f3412c",
   "metadata": {},
   "outputs": [],
   "source": [
    "y_pred_original = label_encoder.inverse_transform(y_pred_encoded)"
   ]
  },
  {
   "cell_type": "code",
   "execution_count": null,
   "id": "0ba370ba",
   "metadata": {},
   "outputs": [],
   "source": [
    "y_pred_original"
   ]
  },
  {
   "cell_type": "code",
   "execution_count": null,
   "id": "6ea35525",
   "metadata": {},
   "outputs": [],
   "source": [
    "accuracy = accuracy_score(y_test, y_pred_original)\n",
    "classification_rep = classification_report(y_test, y_pred_original)\n",
    "conf_matrix = confusion_matrix(y_test, y_pred_original)\n"
   ]
  },
  {
   "cell_type": "code",
   "execution_count": null,
   "id": "0edf573d",
   "metadata": {},
   "outputs": [],
   "source": [
    "print(\"Accuracy:\", accuracy)\n",
    "print(\"\\nClassification Report:\\n\", classification_rep)\n",
    "print(\"\\nConfusion Matrix:\\n\", conf_matrix)"
   ]
  },
  {
   "cell_type": "code",
   "execution_count": null,
   "id": "42a765f1",
   "metadata": {},
   "outputs": [],
   "source": [
    "new_ticket_data = {\n",
    "    'Description': \"User reporting login issue\",\n",
    "    'Category': \"Login\",\n",
    "    'Priority': \"High\",\n",
    "    'Affected User Business Unit': \"IT\",\n",
    "    'Department': \"Support\",\n",
    "    'Employee Type': \"Full-time\",\n",
    "    'Source': \"Web\",\n",
    "    'Status': \"Open\",\n",
    "    'Affected User Location':\"europe Manufacturing Facility\"\n",
    "    \n",
    "}"
   ]
  },
  {
   "cell_type": "code",
   "execution_count": null,
   "id": "ea39f342",
   "metadata": {},
   "outputs": [],
   "source": [
    "new_ticket_text = ' '.join([str(new_ticket_data[col]) for col in text_columns])\n",
    "new_ticket_bow = count_vectorizer.transform([new_ticket_text])\n",
    "predicted_team = xgb_classifier.predict(new_ticket_bow)"
   ]
  },
  {
   "cell_type": "code",
   "execution_count": null,
   "id": "697e4d4e",
   "metadata": {},
   "outputs": [],
   "source": [
    "predicted_team_final = label_encoder.inverse_transform(predicted_team)"
   ]
  },
  {
   "cell_type": "code",
   "execution_count": null,
   "id": "a0b9e0b5",
   "metadata": {},
   "outputs": [],
   "source": [
    "print(\"predicted_team_final is:\",predicted_team_final)"
   ]
  },
  {
   "cell_type": "code",
   "execution_count": null,
   "id": "f9959806",
   "metadata": {},
   "outputs": [],
   "source": []
  },
  {
   "cell_type": "code",
   "execution_count": null,
   "id": "678242ae",
   "metadata": {},
   "outputs": [],
   "source": [
    "#word2vec"
   ]
  },
  {
   "cell_type": "code",
   "execution_count": null,
   "id": "786e8995",
   "metadata": {},
   "outputs": [],
   "source": [
    "label_encoder = LabelEncoder()"
   ]
  },
  {
   "cell_type": "code",
   "execution_count": null,
   "id": "dc334d2e",
   "metadata": {},
   "outputs": [],
   "source": [
    "label_encoder"
   ]
  },
  {
   "cell_type": "code",
   "execution_count": null,
   "id": "d9024aa7",
   "metadata": {},
   "outputs": [],
   "source": [
    "data['Group'] = label_encoder.fit_transform(data['Group'])"
   ]
  },
  {
   "cell_type": "code",
   "execution_count": null,
   "id": "9973b7c3",
   "metadata": {},
   "outputs": [],
   "source": [
    "data['Group']"
   ]
  },
  {
   "cell_type": "code",
   "execution_count": null,
   "id": "ac2cc04f",
   "metadata": {},
   "outputs": [],
   "source": [
    "test_size = 0.3"
   ]
  },
  {
   "cell_type": "code",
   "execution_count": null,
   "id": "d8795acd",
   "metadata": {},
   "outputs": [],
   "source": [
    "X_train,X_test,y_train,y_test = train_test_split(data['Combined_Text'],data['Group'],test_size=test_size,random_state=42)"
   ]
  },
  {
   "cell_type": "code",
   "execution_count": null,
   "id": "68ead23b",
   "metadata": {},
   "outputs": [],
   "source": [
    "word2vec_model = Word2Vec(sentences=X_train.apply(word_tokenize), vector_size=100, window=5, min_count=1, workers=4)"
   ]
  },
  {
   "cell_type": "code",
   "execution_count": null,
   "id": "4212b473",
   "metadata": {},
   "outputs": [],
   "source": [
    "word2vec_model"
   ]
  },
  {
   "cell_type": "code",
   "execution_count": null,
   "id": "e29d049d",
   "metadata": {},
   "outputs": [],
   "source": [
    "def average_word2vec(text, model, vector_size):\n",
    "    words = word_tokenize(str(text))\n",
    "    vectors = [model.wv[word] for word in words if word in model.wv]\n",
    "    if not vectors:\n",
    "        return [0] * vector_size\n",
    "    return sum(vectors) / len(vectors)"
   ]
  },
  {
   "cell_type": "code",
   "execution_count": null,
   "id": "901e65a2",
   "metadata": {},
   "outputs": [],
   "source": [
    "X_train_w2v = X_train.apply(lambda x: average_word2vec(x, word2vec_model, vector_size=100))\n",
    "X_test_w2v = X_test.apply(lambda x: average_word2vec(x, word2vec_model, vector_size=100))"
   ]
  },
  {
   "cell_type": "code",
   "execution_count": null,
   "id": "f3818685",
   "metadata": {},
   "outputs": [],
   "source": [
    "X_train_w2v"
   ]
  },
  {
   "cell_type": "code",
   "execution_count": null,
   "id": "52886d89",
   "metadata": {},
   "outputs": [],
   "source": [
    "X_test_w2v"
   ]
  },
  {
   "cell_type": "code",
   "execution_count": null,
   "id": "d319c85f",
   "metadata": {},
   "outputs": [],
   "source": [
    "logistic_regression_classifier = LogisticRegression()"
   ]
  },
  {
   "cell_type": "code",
   "execution_count": null,
   "id": "ffc17acb",
   "metadata": {},
   "outputs": [],
   "source": [
    "logistic_regression_classifier"
   ]
  },
  {
   "cell_type": "code",
   "execution_count": null,
   "id": "723c6006",
   "metadata": {},
   "outputs": [],
   "source": [
    "logistic_regression_classifier.fit(list(X_train_w2v), y_train)"
   ]
  },
  {
   "cell_type": "code",
   "execution_count": null,
   "id": "4011bbfa",
   "metadata": {},
   "outputs": [],
   "source": [
    "y_pred = logistic_regression_classifier.predict(list(X_test_w2v))"
   ]
  },
  {
   "cell_type": "code",
   "execution_count": null,
   "id": "ecce2e6f",
   "metadata": {},
   "outputs": [],
   "source": [
    "y_pred"
   ]
  },
  {
   "cell_type": "code",
   "execution_count": null,
   "id": "b49e4c5d",
   "metadata": {},
   "outputs": [],
   "source": [
    "accuracy = accuracy_score(y_test, y_pred)\n"
   ]
  },
  {
   "cell_type": "code",
   "execution_count": null,
   "id": "0cbbf632",
   "metadata": {},
   "outputs": [],
   "source": [
    "print(\"Accuracy:\", accuracy)"
   ]
  },
  {
   "cell_type": "code",
   "execution_count": null,
   "id": "95f48293",
   "metadata": {},
   "outputs": [],
   "source": [
    "new_ticket_data = {\n",
    "    'Description': \"User reporting login issue\",\n",
    "    'Category': \"Login\",\n",
    "    'Priority': \"High\",\n",
    "    'Affected User Business Unit': \"IT\",\n",
    "    'Department': \"Support\",\n",
    "    'Employee Type': \"Full-time\",\n",
    "    'Source': \"Web\",\n",
    "    'Status': \"Open\",\n",
    "    'Affected User Location':\"europe Manufacturing Facility\"\n",
    "    \n",
    "}"
   ]
  },
  {
   "cell_type": "code",
   "execution_count": null,
   "id": "c276003b",
   "metadata": {},
   "outputs": [],
   "source": [
    "new_ticket_text = ' '.join([str(new_ticket_data[col]) for col in text_columns])\n",
    "new_ticket_w2v = average_word2vec(new_ticket_text, word2vec_model, vector_size=100)\n",
    "predicted_team = logistic_regression_classifier.predict([new_ticket_w2v])"
   ]
  },
  {
   "cell_type": "code",
   "execution_count": null,
   "id": "032dfb5b",
   "metadata": {},
   "outputs": [],
   "source": [
    "predicted_team_category = label_encoder.inverse_transform(predicted_team)"
   ]
  },
  {
   "cell_type": "code",
   "execution_count": null,
   "id": "8fd57056",
   "metadata": {},
   "outputs": [],
   "source": [
    "print(\"predicted:\",predicted_team_category[0])"
   ]
  },
  {
   "cell_type": "code",
   "execution_count": null,
   "id": "92be1ea8",
   "metadata": {},
   "outputs": [],
   "source": []
  },
  {
   "cell_type": "code",
   "execution_count": null,
   "id": "ea7ba434",
   "metadata": {},
   "outputs": [],
   "source": [
    "#xgboost fine tuning"
   ]
  },
  {
   "cell_type": "code",
   "execution_count": null,
   "id": "a3963c5a",
   "metadata": {},
   "outputs": [],
   "source": [
    "#performing xgboost with tfidf vectorization"
   ]
  },
  {
   "cell_type": "code",
   "execution_count": null,
   "id": "204e14d7",
   "metadata": {},
   "outputs": [],
   "source": [
    "test_size = 0.3"
   ]
  },
  {
   "cell_type": "code",
   "execution_count": null,
   "id": "5248eefd",
   "metadata": {},
   "outputs": [],
   "source": [
    "X_train, X_test, y_train, y_test = train_test_split(data['Combined_Text'], data['Group'], test_size=test_size, random_state=42)"
   ]
  },
  {
   "cell_type": "code",
   "execution_count": null,
   "id": "3dfe1826",
   "metadata": {},
   "outputs": [],
   "source": [
    "X_train, X_test, y_train, y_test"
   ]
  },
  {
   "cell_type": "code",
   "execution_count": null,
   "id": "217d8ae9",
   "metadata": {},
   "outputs": [],
   "source": [
    "tfidf_vectorizer = TfidfVectorizer()\n"
   ]
  },
  {
   "cell_type": "code",
   "execution_count": null,
   "id": "90974176",
   "metadata": {},
   "outputs": [],
   "source": [
    " X_train_tfidf = tfidf_vectorizer.fit_transform(X_train)\n"
   ]
  },
  {
   "cell_type": "code",
   "execution_count": null,
   "id": "207716dd",
   "metadata": {},
   "outputs": [],
   "source": [
    "X_test_tfidf = tfidf_vectorizer.transform(X_test)"
   ]
  },
  {
   "cell_type": "code",
   "execution_count": null,
   "id": "43f86067",
   "metadata": {},
   "outputs": [],
   "source": [
    "label_encoder = LabelEncoder()\n",
    "y_train_encoded = label_encoder.fit_transform(y_train)"
   ]
  },
  {
   "cell_type": "code",
   "execution_count": null,
   "id": "5311bace",
   "metadata": {},
   "outputs": [],
   "source": [
    "xgb_classifier = XGBClassifier(learning_rate=0.1, n_estimators=100, max_depth=3, reg_alpha=1, reg_lambda=1, n_jobs=-1)"
   ]
  },
  {
   "cell_type": "code",
   "execution_count": null,
   "id": "917a2bcc",
   "metadata": {},
   "outputs": [],
   "source": [
    "xgb_classifier"
   ]
  },
  {
   "cell_type": "code",
   "execution_count": null,
   "id": "ab98accc",
   "metadata": {},
   "outputs": [],
   "source": [
    "xgb_classifier.fit(X_train_tfidf, y_train_encoded)"
   ]
  },
  {
   "cell_type": "code",
   "execution_count": null,
   "id": "44778850",
   "metadata": {},
   "outputs": [],
   "source": [
    "y_pred_encoded = xgb_classifier.predict(X_test_tfidf)"
   ]
  },
  {
   "cell_type": "code",
   "execution_count": null,
   "id": "5886560e",
   "metadata": {},
   "outputs": [],
   "source": [
    "print(\"\",y_pred_encoded)"
   ]
  },
  {
   "cell_type": "code",
   "execution_count": null,
   "id": "37cac062",
   "metadata": {},
   "outputs": [],
   "source": [
    "y_pred_original = label_encoder.inverse_transform(y_pred_encoded)"
   ]
  },
  {
   "cell_type": "code",
   "execution_count": null,
   "id": "08559c82",
   "metadata": {},
   "outputs": [],
   "source": [
    "y_pred_original"
   ]
  },
  {
   "cell_type": "code",
   "execution_count": null,
   "id": "61da218f",
   "metadata": {},
   "outputs": [],
   "source": [
    "accuracy = accuracy_score(y_test, y_pred_original)\n",
    "classification_rep = classification_report(y_test, y_pred_original)\n",
    "conf_matrix = confusion_matrix(y_test, y_pred_original)"
   ]
  },
  {
   "cell_type": "code",
   "execution_count": null,
   "id": "17027e6d",
   "metadata": {},
   "outputs": [],
   "source": [
    "print(\"Accuracy:\", accuracy)\n",
    "print(\"\\nClassification Report:\\n\", classification_rep)\n",
    "print(\"\\nConfusion Matrix:\\n\", conf_matrix)"
   ]
  },
  {
   "cell_type": "code",
   "execution_count": null,
   "id": "0a414b0b",
   "metadata": {},
   "outputs": [],
   "source": [
    "new_ticket_data = {\n",
    "    'Description': \"User reporting login issue\",\n",
    "    'Category': \"Login\",\n",
    "    'Priority': \"High\",\n",
    "    'Affected User Business Unit': \"IT\",\n",
    "    'Department': \"Support\",\n",
    "    'Employee Type': \"Full-time\",\n",
    "    'Source': \"Web\",\n",
    "    'Status': \"Open\",\n",
    "    'Affected User Location':\"europe Manufacturing Facility\"\n",
    "    \n",
    "}"
   ]
  },
  {
   "cell_type": "code",
   "execution_count": null,
   "id": "309185cd",
   "metadata": {},
   "outputs": [],
   "source": [
    "new_ticket_text = ' '.join([str(new_ticket_data[col]) for col in text_columns])\n",
    "new_ticket_doi = tfidf_vectorizer.transform([new_ticket_text])\n",
    "predicted_team = xgb_classifier.predict(new_ticket_doi)"
   ]
  },
  {
   "cell_type": "code",
   "execution_count": null,
   "id": "8098b8d0",
   "metadata": {},
   "outputs": [],
   "source": [
    "predicted_category = label_encoder.inverse_transform(predicted_team)"
   ]
  },
  {
   "cell_type": "code",
   "execution_count": null,
   "id": "10f5b0f4",
   "metadata": {},
   "outputs": [],
   "source": [
    "print(\"the predicted group is:\",predicted_category[0])"
   ]
  },
  {
   "cell_type": "markdown",
   "id": "7b3f7a23",
   "metadata": {},
   "source": [
    "### please scroll down for the main prediction(xgboost+tfidf)which includes accuracy of the entire model and accuracy on unseen data"
   ]
  },
  {
   "cell_type": "code",
   "execution_count": null,
   "id": "26f6c5ca",
   "metadata": {},
   "outputs": [],
   "source": []
  },
  {
   "cell_type": "code",
   "execution_count": null,
   "id": "f583a18f",
   "metadata": {},
   "outputs": [],
   "source": []
  },
  {
   "cell_type": "code",
   "execution_count": null,
   "id": "7919fa54",
   "metadata": {
    "scrolled": true
   },
   "outputs": [],
   "source": []
  },
  {
   "cell_type": "code",
   "execution_count": null,
   "id": "56baf8a2",
   "metadata": {},
   "outputs": [],
   "source": []
  },
  {
   "cell_type": "code",
   "execution_count": null,
   "id": "9d09b8df",
   "metadata": {},
   "outputs": [],
   "source": []
  },
  {
   "cell_type": "code",
   "execution_count": null,
   "id": "7eb87b36",
   "metadata": {},
   "outputs": [],
   "source": []
  },
  {
   "cell_type": "code",
   "execution_count": null,
   "id": "b182eff3",
   "metadata": {},
   "outputs": [],
   "source": []
  },
  {
   "cell_type": "code",
   "execution_count": null,
   "id": "96e20d41",
   "metadata": {},
   "outputs": [],
   "source": []
  },
  {
   "cell_type": "code",
   "execution_count": null,
   "id": "8f657cc8",
   "metadata": {},
   "outputs": [],
   "source": []
  },
  {
   "cell_type": "code",
   "execution_count": null,
   "id": "1bbd7603",
   "metadata": {},
   "outputs": [],
   "source": []
  },
  {
   "cell_type": "code",
   "execution_count": null,
   "id": "0dca975a",
   "metadata": {},
   "outputs": [],
   "source": []
  },
  {
   "cell_type": "code",
   "execution_count": null,
   "id": "e5c7fef2",
   "metadata": {},
   "outputs": [],
   "source": []
  },
  {
   "cell_type": "code",
   "execution_count": null,
   "id": "196c7d4d",
   "metadata": {},
   "outputs": [],
   "source": []
  },
  {
   "cell_type": "code",
   "execution_count": null,
   "id": "2d889517",
   "metadata": {},
   "outputs": [],
   "source": []
  },
  {
   "cell_type": "code",
   "execution_count": null,
   "id": "e638aeff",
   "metadata": {},
   "outputs": [],
   "source": []
  },
  {
   "cell_type": "code",
   "execution_count": null,
   "id": "11acc4a7",
   "metadata": {},
   "outputs": [],
   "source": []
  },
  {
   "cell_type": "code",
   "execution_count": null,
   "id": "65839722",
   "metadata": {},
   "outputs": [],
   "source": []
  },
  {
   "cell_type": "code",
   "execution_count": null,
   "id": "6c7167ef",
   "metadata": {},
   "outputs": [],
   "source": []
  },
  {
   "cell_type": "code",
   "execution_count": null,
   "id": "d7eb9301",
   "metadata": {},
   "outputs": [],
   "source": []
  },
  {
   "cell_type": "code",
   "execution_count": null,
   "id": "8aed5386",
   "metadata": {},
   "outputs": [],
   "source": []
  },
  {
   "cell_type": "code",
   "execution_count": null,
   "id": "a846ac5e",
   "metadata": {},
   "outputs": [],
   "source": []
  },
  {
   "cell_type": "code",
   "execution_count": null,
   "id": "415628bd",
   "metadata": {},
   "outputs": [],
   "source": []
  },
  {
   "cell_type": "code",
   "execution_count": null,
   "id": "b380b482",
   "metadata": {},
   "outputs": [],
   "source": []
  },
  {
   "cell_type": "code",
   "execution_count": null,
   "id": "a4cad05f",
   "metadata": {},
   "outputs": [],
   "source": []
  },
  {
   "cell_type": "code",
   "execution_count": null,
   "id": "0dbb75ee",
   "metadata": {},
   "outputs": [],
   "source": []
  },
  {
   "cell_type": "code",
   "execution_count": null,
   "id": "5735b733",
   "metadata": {
    "scrolled": true
   },
   "outputs": [],
   "source": []
  },
  {
   "cell_type": "code",
   "execution_count": null,
   "id": "2f803d86",
   "metadata": {},
   "outputs": [],
   "source": []
  },
  {
   "cell_type": "code",
   "execution_count": null,
   "id": "c3bc36a2",
   "metadata": {},
   "outputs": [],
   "source": []
  },
  {
   "cell_type": "code",
   "execution_count": null,
   "id": "3c7fcd39",
   "metadata": {},
   "outputs": [],
   "source": []
  },
  {
   "cell_type": "code",
   "execution_count": null,
   "id": "0fb9c083",
   "metadata": {},
   "outputs": [],
   "source": []
  },
  {
   "cell_type": "code",
   "execution_count": null,
   "id": "49c09bfe",
   "metadata": {},
   "outputs": [],
   "source": []
  },
  {
   "cell_type": "code",
   "execution_count": null,
   "id": "69cd6fdb",
   "metadata": {},
   "outputs": [],
   "source": []
  },
  {
   "cell_type": "code",
   "execution_count": null,
   "id": "2cfac231",
   "metadata": {},
   "outputs": [],
   "source": []
  },
  {
   "cell_type": "code",
   "execution_count": null,
   "id": "a77023f8",
   "metadata": {},
   "outputs": [],
   "source": []
  },
  {
   "cell_type": "code",
   "execution_count": null,
   "id": "a883caf7",
   "metadata": {},
   "outputs": [],
   "source": []
  },
  {
   "cell_type": "code",
   "execution_count": null,
   "id": "e0b2b9db",
   "metadata": {},
   "outputs": [],
   "source": []
  },
  {
   "cell_type": "code",
   "execution_count": null,
   "id": "56418f31",
   "metadata": {},
   "outputs": [],
   "source": []
  },
  {
   "cell_type": "code",
   "execution_count": null,
   "id": "9360a5ae",
   "metadata": {},
   "outputs": [],
   "source": []
  },
  {
   "cell_type": "code",
   "execution_count": null,
   "id": "5a9e9c3f",
   "metadata": {},
   "outputs": [],
   "source": []
  },
  {
   "cell_type": "code",
   "execution_count": null,
   "id": "3e3c0372",
   "metadata": {},
   "outputs": [],
   "source": []
  },
  {
   "cell_type": "code",
   "execution_count": null,
   "id": "d58fa6dc",
   "metadata": {},
   "outputs": [],
   "source": []
  },
  {
   "cell_type": "code",
   "execution_count": null,
   "id": "6073979b",
   "metadata": {},
   "outputs": [],
   "source": []
  },
  {
   "cell_type": "code",
   "execution_count": null,
   "id": "20bb0f6d",
   "metadata": {},
   "outputs": [],
   "source": []
  },
  {
   "cell_type": "code",
   "execution_count": null,
   "id": "2323205c",
   "metadata": {},
   "outputs": [],
   "source": []
  },
  {
   "cell_type": "code",
   "execution_count": null,
   "id": "1b807e05",
   "metadata": {},
   "outputs": [],
   "source": []
  },
  {
   "cell_type": "code",
   "execution_count": null,
   "id": "489165ab",
   "metadata": {},
   "outputs": [],
   "source": []
  },
  {
   "cell_type": "code",
   "execution_count": null,
   "id": "6ec8f289",
   "metadata": {},
   "outputs": [],
   "source": []
  },
  {
   "cell_type": "code",
   "execution_count": null,
   "id": "9cbf132e",
   "metadata": {},
   "outputs": [],
   "source": []
  },
  {
   "cell_type": "code",
   "execution_count": null,
   "id": "009751ad",
   "metadata": {},
   "outputs": [],
   "source": []
  },
  {
   "cell_type": "code",
   "execution_count": null,
   "id": "33529fd9",
   "metadata": {},
   "outputs": [],
   "source": []
  },
  {
   "cell_type": "code",
   "execution_count": null,
   "id": "1659b230",
   "metadata": {},
   "outputs": [],
   "source": []
  },
  {
   "cell_type": "code",
   "execution_count": null,
   "id": "42806359",
   "metadata": {},
   "outputs": [],
   "source": []
  },
  {
   "cell_type": "code",
   "execution_count": null,
   "id": "b61dff4d",
   "metadata": {},
   "outputs": [],
   "source": []
  },
  {
   "cell_type": "code",
   "execution_count": null,
   "id": "777bfb50",
   "metadata": {},
   "outputs": [],
   "source": []
  },
  {
   "cell_type": "code",
   "execution_count": null,
   "id": "cadc5db8",
   "metadata": {},
   "outputs": [],
   "source": []
  },
  {
   "cell_type": "code",
   "execution_count": null,
   "id": "e9d116d6",
   "metadata": {},
   "outputs": [],
   "source": []
  },
  {
   "cell_type": "code",
   "execution_count": null,
   "id": "367941ea",
   "metadata": {},
   "outputs": [],
   "source": []
  },
  {
   "cell_type": "code",
   "execution_count": null,
   "id": "11a13ecd",
   "metadata": {},
   "outputs": [],
   "source": []
  },
  {
   "cell_type": "code",
   "execution_count": null,
   "id": "d921f4ee",
   "metadata": {},
   "outputs": [],
   "source": []
  },
  {
   "cell_type": "code",
   "execution_count": null,
   "id": "1b3032a0",
   "metadata": {},
   "outputs": [],
   "source": []
  },
  {
   "cell_type": "code",
   "execution_count": null,
   "id": "cbe689f5",
   "metadata": {},
   "outputs": [],
   "source": []
  },
  {
   "cell_type": "code",
   "execution_count": null,
   "id": "66f8aef7",
   "metadata": {},
   "outputs": [],
   "source": []
  },
  {
   "cell_type": "code",
   "execution_count": null,
   "id": "41253db7",
   "metadata": {},
   "outputs": [],
   "source": []
  },
  {
   "cell_type": "code",
   "execution_count": null,
   "id": "12be86fc",
   "metadata": {},
   "outputs": [],
   "source": []
  },
  {
   "cell_type": "code",
   "execution_count": null,
   "id": "305c739b",
   "metadata": {},
   "outputs": [],
   "source": []
  },
  {
   "cell_type": "code",
   "execution_count": null,
   "id": "6ba21564",
   "metadata": {},
   "outputs": [],
   "source": []
  },
  {
   "cell_type": "markdown",
   "id": "76e83509",
   "metadata": {},
   "source": [
    "### hyer-paramter training with tfidf and xgboost"
   ]
  },
  {
   "cell_type": "code",
   "execution_count": 17,
   "id": "6770d17b",
   "metadata": {},
   "outputs": [],
   "source": [
    "oversampler = RandomOverSampler(random_state=42)"
   ]
  },
  {
   "cell_type": "markdown",
   "id": "ee2f4703",
   "metadata": {},
   "source": [
    "### applying oversampler to increase the data points for the y_train and y_test to be equal in size"
   ]
  },
  {
   "cell_type": "code",
   "execution_count": 18,
   "id": "596d7457",
   "metadata": {},
   "outputs": [
    {
     "data": {
      "text/html": [
       "<style>#sk-container-id-1 {color: black;}#sk-container-id-1 pre{padding: 0;}#sk-container-id-1 div.sk-toggleable {background-color: white;}#sk-container-id-1 label.sk-toggleable__label {cursor: pointer;display: block;width: 100%;margin-bottom: 0;padding: 0.3em;box-sizing: border-box;text-align: center;}#sk-container-id-1 label.sk-toggleable__label-arrow:before {content: \"▸\";float: left;margin-right: 0.25em;color: #696969;}#sk-container-id-1 label.sk-toggleable__label-arrow:hover:before {color: black;}#sk-container-id-1 div.sk-estimator:hover label.sk-toggleable__label-arrow:before {color: black;}#sk-container-id-1 div.sk-toggleable__content {max-height: 0;max-width: 0;overflow: hidden;text-align: left;background-color: #f0f8ff;}#sk-container-id-1 div.sk-toggleable__content pre {margin: 0.2em;color: black;border-radius: 0.25em;background-color: #f0f8ff;}#sk-container-id-1 input.sk-toggleable__control:checked~div.sk-toggleable__content {max-height: 200px;max-width: 100%;overflow: auto;}#sk-container-id-1 input.sk-toggleable__control:checked~label.sk-toggleable__label-arrow:before {content: \"▾\";}#sk-container-id-1 div.sk-estimator input.sk-toggleable__control:checked~label.sk-toggleable__label {background-color: #d4ebff;}#sk-container-id-1 div.sk-label input.sk-toggleable__control:checked~label.sk-toggleable__label {background-color: #d4ebff;}#sk-container-id-1 input.sk-hidden--visually {border: 0;clip: rect(1px 1px 1px 1px);clip: rect(1px, 1px, 1px, 1px);height: 1px;margin: -1px;overflow: hidden;padding: 0;position: absolute;width: 1px;}#sk-container-id-1 div.sk-estimator {font-family: monospace;background-color: #f0f8ff;border: 1px dotted black;border-radius: 0.25em;box-sizing: border-box;margin-bottom: 0.5em;}#sk-container-id-1 div.sk-estimator:hover {background-color: #d4ebff;}#sk-container-id-1 div.sk-parallel-item::after {content: \"\";width: 100%;border-bottom: 1px solid gray;flex-grow: 1;}#sk-container-id-1 div.sk-label:hover label.sk-toggleable__label {background-color: #d4ebff;}#sk-container-id-1 div.sk-serial::before {content: \"\";position: absolute;border-left: 1px solid gray;box-sizing: border-box;top: 0;bottom: 0;left: 50%;z-index: 0;}#sk-container-id-1 div.sk-serial {display: flex;flex-direction: column;align-items: center;background-color: white;padding-right: 0.2em;padding-left: 0.2em;position: relative;}#sk-container-id-1 div.sk-item {position: relative;z-index: 1;}#sk-container-id-1 div.sk-parallel {display: flex;align-items: stretch;justify-content: center;background-color: white;position: relative;}#sk-container-id-1 div.sk-item::before, #sk-container-id-1 div.sk-parallel-item::before {content: \"\";position: absolute;border-left: 1px solid gray;box-sizing: border-box;top: 0;bottom: 0;left: 50%;z-index: -1;}#sk-container-id-1 div.sk-parallel-item {display: flex;flex-direction: column;z-index: 1;position: relative;background-color: white;}#sk-container-id-1 div.sk-parallel-item:first-child::after {align-self: flex-end;width: 50%;}#sk-container-id-1 div.sk-parallel-item:last-child::after {align-self: flex-start;width: 50%;}#sk-container-id-1 div.sk-parallel-item:only-child::after {width: 0;}#sk-container-id-1 div.sk-dashed-wrapped {border: 1px dashed gray;margin: 0 0.4em 0.5em 0.4em;box-sizing: border-box;padding-bottom: 0.4em;background-color: white;}#sk-container-id-1 div.sk-label label {font-family: monospace;font-weight: bold;display: inline-block;line-height: 1.2em;}#sk-container-id-1 div.sk-label-container {text-align: center;}#sk-container-id-1 div.sk-container {/* jupyter's `normalize.less` sets `[hidden] { display: none; }` but bootstrap.min.css set `[hidden] { display: none !important; }` so we also need the `!important` here to be able to override the default hidden behavior on the sphinx rendered scikit-learn.org. See: https://github.com/scikit-learn/scikit-learn/issues/21755 */display: inline-block !important;position: relative;}#sk-container-id-1 div.sk-text-repr-fallback {display: none;}</style><div id=\"sk-container-id-1\" class=\"sk-top-container\"><div class=\"sk-text-repr-fallback\"><pre>RandomOverSampler(random_state=42)</pre><b>In a Jupyter environment, please rerun this cell to show the HTML representation or trust the notebook. <br />On GitHub, the HTML representation is unable to render, please try loading this page with nbviewer.org.</b></div><div class=\"sk-container\" hidden><div class=\"sk-item\"><div class=\"sk-estimator sk-toggleable\"><input class=\"sk-toggleable__control sk-hidden--visually\" id=\"sk-estimator-id-1\" type=\"checkbox\" checked><label for=\"sk-estimator-id-1\" class=\"sk-toggleable__label sk-toggleable__label-arrow\">RandomOverSampler</label><div class=\"sk-toggleable__content\"><pre>RandomOverSampler(random_state=42)</pre></div></div></div></div></div>"
      ],
      "text/plain": [
       "RandomOverSampler(random_state=42)"
      ]
     },
     "execution_count": 18,
     "metadata": {},
     "output_type": "execute_result"
    }
   ],
   "source": [
    "oversampler"
   ]
  },
  {
   "cell_type": "code",
   "execution_count": 19,
   "id": "04bb21fe",
   "metadata": {},
   "outputs": [],
   "source": [
    "X_resampled, y_resampled = oversampler.fit_resample(data['Combined_Text'].values.reshape(-1, 1), data['Group'])"
   ]
  },
  {
   "cell_type": "code",
   "execution_count": 20,
   "id": "7aa31b52",
   "metadata": {},
   "outputs": [],
   "source": [
    "test_size = 0.3"
   ]
  },
  {
   "cell_type": "markdown",
   "id": "17856e58",
   "metadata": {},
   "source": [
    "### Splitting the Resampled Data for Training and Testing"
   ]
  },
  {
   "cell_type": "code",
   "execution_count": 21,
   "id": "e3190b75",
   "metadata": {},
   "outputs": [],
   "source": [
    "X_train, X_test, y_train, y_test = train_test_split(X_resampled.flatten(), y_resampled, test_size=0.2, random_state=42, stratify=y_resampled)\n"
   ]
  },
  {
   "cell_type": "markdown",
   "id": "2e9b7f15",
   "metadata": {},
   "source": [
    "### applying union of y_train and y_test"
   ]
  },
  {
   "cell_type": "code",
   "execution_count": 22,
   "id": "bd697b75",
   "metadata": {},
   "outputs": [],
   "source": [
    "all_classes = set(y_train) | set(y_test)"
   ]
  },
  {
   "cell_type": "markdown",
   "id": "954e543d",
   "metadata": {},
   "source": [
    "### Ensuring Consistent Classes in Training and Testing Sets"
   ]
  },
  {
   "cell_type": "code",
   "execution_count": 23,
   "id": "051980ce",
   "metadata": {},
   "outputs": [],
   "source": [
    "y_train = y_train[y_train.isin(all_classes)]\n",
    "y_test = y_test[y_test.isin(all_classes)]\n"
   ]
  },
  {
   "cell_type": "markdown",
   "id": "8a178700",
   "metadata": {},
   "source": []
  },
  {
   "cell_type": "code",
   "execution_count": 24,
   "id": "6818acd1",
   "metadata": {},
   "outputs": [],
   "source": [
    "missing_classes = set(y_train) - set(y_test)"
   ]
  },
  {
   "cell_type": "code",
   "execution_count": 25,
   "id": "9ead57a0",
   "metadata": {},
   "outputs": [],
   "source": [
    "y_test = pd.concat([y_test, pd.Series(list(missing_classes))], ignore_index=True)"
   ]
  },
  {
   "cell_type": "markdown",
   "id": "7e7ea1b6",
   "metadata": {},
   "source": [
    "### applying label encoder to convert text to numerics of both the y_train and Y-test"
   ]
  },
  {
   "cell_type": "code",
   "execution_count": 26,
   "id": "4b210827",
   "metadata": {},
   "outputs": [],
   "source": [
    "label_encoder = LabelEncoder()\n",
    "all_labels = pd.concat([y_train, y_test], axis=0)  \n",
    "y_all_encoded = label_encoder.fit_transform(all_labels)\n"
   ]
  },
  {
   "cell_type": "markdown",
   "id": "79a6ac9c",
   "metadata": {},
   "source": [
    "###converting the concatenated y values to it's training and testing data"
   ]
  },
  {
   "cell_type": "code",
   "execution_count": 27,
   "id": "506c5651",
   "metadata": {},
   "outputs": [],
   "source": [
    "y_train_encoded = y_all_encoded[:len(y_train)]\n",
    "y_test_encoded = y_all_encoded[len(y_train):]"
   ]
  },
  {
   "cell_type": "markdown",
   "id": "b9de1fa7",
   "metadata": {},
   "source": [
    "### tfidf vectorization"
   ]
  },
  {
   "cell_type": "code",
   "execution_count": 28,
   "id": "51f95f05",
   "metadata": {},
   "outputs": [],
   "source": [
    "tfidf_vectorizer = TfidfVectorizer()\n",
    "X_train_tfidf = tfidf_vectorizer.fit_transform(X_train)\n",
    "X_test_tfidf = tfidf_vectorizer.transform(X_test)"
   ]
  },
  {
   "cell_type": "markdown",
   "id": "629cb9f2",
   "metadata": {},
   "source": [
    "### declaring xg boost classification for prediction of the tfidf vectorized data"
   ]
  },
  {
   "cell_type": "code",
   "execution_count": 29,
   "id": "b6afed18",
   "metadata": {},
   "outputs": [],
   "source": [
    "xgb_classifier = XGBClassifier()"
   ]
  },
  {
   "cell_type": "markdown",
   "id": "c63849b6",
   "metadata": {},
   "source": [
    "### declaring essential hyper parameters for improving model's accuracy"
   ]
  },
  {
   "cell_type": "code",
   "execution_count": 30,
   "id": "1d1ada8b",
   "metadata": {},
   "outputs": [],
   "source": [
    "param_grid = {\n",
    "    'max_depth': [3, 4, 5],\n",
    "    'learning_rate': [0.1, 0.01, 0.05],\n",
    "    'n_estimators': [100, 200, 300],\n",
    "    \n",
    "}"
   ]
  },
  {
   "cell_type": "markdown",
   "id": "22a9eb50",
   "metadata": {},
   "source": [
    "### printing the hyper-paramter models"
   ]
  },
  {
   "cell_type": "code",
   "execution_count": 31,
   "id": "b70a8dfd",
   "metadata": {},
   "outputs": [
    {
     "name": "stdout",
     "output_type": "stream",
     "text": [
      "the paramter grids are: {'max_depth': [3, 4, 5], 'learning_rate': [0.1, 0.01, 0.05], 'n_estimators': [100, 200, 300]}\n"
     ]
    }
   ],
   "source": [
    "print(\"the paramter grids are:\",param_grid)"
   ]
  },
  {
   "cell_type": "markdown",
   "id": "83d29dac",
   "metadata": {},
   "source": [
    "### Randomized Search Cross Validation for Hyperparameter Tuning in XGBoost Classifier "
   ]
  },
  {
   "cell_type": "code",
   "execution_count": 32,
   "id": "1c0859ea",
   "metadata": {},
   "outputs": [],
   "source": [
    "random_search = RandomizedSearchCV(\n",
    "    xgb_classifier,\n",
    "    param_distributions=param_grid,\n",
    "    n_iter=20,  \n",
    "    scoring='accuracy',\n",
    "    n_jobs=-1,\n",
    "    cv=3,\n",
    "    verbose=1,\n",
    "    random_state=42\n",
    ")"
   ]
  },
  {
   "cell_type": "markdown",
   "id": "3b012b69",
   "metadata": {},
   "source": [
    "### fitting the model for further evaluation"
   ]
  },
  {
   "cell_type": "code",
   "execution_count": 33,
   "id": "0443bc87",
   "metadata": {},
   "outputs": [
    {
     "name": "stdout",
     "output_type": "stream",
     "text": [
      "Fitting 3 folds for each of 20 candidates, totalling 60 fits\n"
     ]
    },
    {
     "data": {
      "text/html": [
       "<style>#sk-container-id-2 {color: black;}#sk-container-id-2 pre{padding: 0;}#sk-container-id-2 div.sk-toggleable {background-color: white;}#sk-container-id-2 label.sk-toggleable__label {cursor: pointer;display: block;width: 100%;margin-bottom: 0;padding: 0.3em;box-sizing: border-box;text-align: center;}#sk-container-id-2 label.sk-toggleable__label-arrow:before {content: \"▸\";float: left;margin-right: 0.25em;color: #696969;}#sk-container-id-2 label.sk-toggleable__label-arrow:hover:before {color: black;}#sk-container-id-2 div.sk-estimator:hover label.sk-toggleable__label-arrow:before {color: black;}#sk-container-id-2 div.sk-toggleable__content {max-height: 0;max-width: 0;overflow: hidden;text-align: left;background-color: #f0f8ff;}#sk-container-id-2 div.sk-toggleable__content pre {margin: 0.2em;color: black;border-radius: 0.25em;background-color: #f0f8ff;}#sk-container-id-2 input.sk-toggleable__control:checked~div.sk-toggleable__content {max-height: 200px;max-width: 100%;overflow: auto;}#sk-container-id-2 input.sk-toggleable__control:checked~label.sk-toggleable__label-arrow:before {content: \"▾\";}#sk-container-id-2 div.sk-estimator input.sk-toggleable__control:checked~label.sk-toggleable__label {background-color: #d4ebff;}#sk-container-id-2 div.sk-label input.sk-toggleable__control:checked~label.sk-toggleable__label {background-color: #d4ebff;}#sk-container-id-2 input.sk-hidden--visually {border: 0;clip: rect(1px 1px 1px 1px);clip: rect(1px, 1px, 1px, 1px);height: 1px;margin: -1px;overflow: hidden;padding: 0;position: absolute;width: 1px;}#sk-container-id-2 div.sk-estimator {font-family: monospace;background-color: #f0f8ff;border: 1px dotted black;border-radius: 0.25em;box-sizing: border-box;margin-bottom: 0.5em;}#sk-container-id-2 div.sk-estimator:hover {background-color: #d4ebff;}#sk-container-id-2 div.sk-parallel-item::after {content: \"\";width: 100%;border-bottom: 1px solid gray;flex-grow: 1;}#sk-container-id-2 div.sk-label:hover label.sk-toggleable__label {background-color: #d4ebff;}#sk-container-id-2 div.sk-serial::before {content: \"\";position: absolute;border-left: 1px solid gray;box-sizing: border-box;top: 0;bottom: 0;left: 50%;z-index: 0;}#sk-container-id-2 div.sk-serial {display: flex;flex-direction: column;align-items: center;background-color: white;padding-right: 0.2em;padding-left: 0.2em;position: relative;}#sk-container-id-2 div.sk-item {position: relative;z-index: 1;}#sk-container-id-2 div.sk-parallel {display: flex;align-items: stretch;justify-content: center;background-color: white;position: relative;}#sk-container-id-2 div.sk-item::before, #sk-container-id-2 div.sk-parallel-item::before {content: \"\";position: absolute;border-left: 1px solid gray;box-sizing: border-box;top: 0;bottom: 0;left: 50%;z-index: -1;}#sk-container-id-2 div.sk-parallel-item {display: flex;flex-direction: column;z-index: 1;position: relative;background-color: white;}#sk-container-id-2 div.sk-parallel-item:first-child::after {align-self: flex-end;width: 50%;}#sk-container-id-2 div.sk-parallel-item:last-child::after {align-self: flex-start;width: 50%;}#sk-container-id-2 div.sk-parallel-item:only-child::after {width: 0;}#sk-container-id-2 div.sk-dashed-wrapped {border: 1px dashed gray;margin: 0 0.4em 0.5em 0.4em;box-sizing: border-box;padding-bottom: 0.4em;background-color: white;}#sk-container-id-2 div.sk-label label {font-family: monospace;font-weight: bold;display: inline-block;line-height: 1.2em;}#sk-container-id-2 div.sk-label-container {text-align: center;}#sk-container-id-2 div.sk-container {/* jupyter's `normalize.less` sets `[hidden] { display: none; }` but bootstrap.min.css set `[hidden] { display: none !important; }` so we also need the `!important` here to be able to override the default hidden behavior on the sphinx rendered scikit-learn.org. See: https://github.com/scikit-learn/scikit-learn/issues/21755 */display: inline-block !important;position: relative;}#sk-container-id-2 div.sk-text-repr-fallback {display: none;}</style><div id=\"sk-container-id-2\" class=\"sk-top-container\"><div class=\"sk-text-repr-fallback\"><pre>RandomizedSearchCV(cv=3,\n",
       "                   estimator=XGBClassifier(base_score=None, booster=None,\n",
       "                                           callbacks=None,\n",
       "                                           colsample_bylevel=None,\n",
       "                                           colsample_bynode=None,\n",
       "                                           colsample_bytree=None, device=None,\n",
       "                                           early_stopping_rounds=None,\n",
       "                                           enable_categorical=False,\n",
       "                                           eval_metric=None, feature_types=None,\n",
       "                                           gamma=None, grow_policy=None,\n",
       "                                           importance_type=None,\n",
       "                                           interaction_constraints=None,\n",
       "                                           learning_rate...\n",
       "                                           max_delta_step=None, max_depth=None,\n",
       "                                           max_leaves=None,\n",
       "                                           min_child_weight=None, missing=nan,\n",
       "                                           monotone_constraints=None,\n",
       "                                           multi_strategy=None,\n",
       "                                           n_estimators=None, n_jobs=None,\n",
       "                                           num_parallel_tree=None,\n",
       "                                           random_state=None, ...),\n",
       "                   n_iter=20, n_jobs=-1,\n",
       "                   param_distributions={&#x27;learning_rate&#x27;: [0.1, 0.01, 0.05],\n",
       "                                        &#x27;max_depth&#x27;: [3, 4, 5],\n",
       "                                        &#x27;n_estimators&#x27;: [100, 200, 300]},\n",
       "                   random_state=42, scoring=&#x27;accuracy&#x27;, verbose=1)</pre><b>In a Jupyter environment, please rerun this cell to show the HTML representation or trust the notebook. <br />On GitHub, the HTML representation is unable to render, please try loading this page with nbviewer.org.</b></div><div class=\"sk-container\" hidden><div class=\"sk-item sk-dashed-wrapped\"><div class=\"sk-label-container\"><div class=\"sk-label sk-toggleable\"><input class=\"sk-toggleable__control sk-hidden--visually\" id=\"sk-estimator-id-2\" type=\"checkbox\" ><label for=\"sk-estimator-id-2\" class=\"sk-toggleable__label sk-toggleable__label-arrow\">RandomizedSearchCV</label><div class=\"sk-toggleable__content\"><pre>RandomizedSearchCV(cv=3,\n",
       "                   estimator=XGBClassifier(base_score=None, booster=None,\n",
       "                                           callbacks=None,\n",
       "                                           colsample_bylevel=None,\n",
       "                                           colsample_bynode=None,\n",
       "                                           colsample_bytree=None, device=None,\n",
       "                                           early_stopping_rounds=None,\n",
       "                                           enable_categorical=False,\n",
       "                                           eval_metric=None, feature_types=None,\n",
       "                                           gamma=None, grow_policy=None,\n",
       "                                           importance_type=None,\n",
       "                                           interaction_constraints=None,\n",
       "                                           learning_rate...\n",
       "                                           max_delta_step=None, max_depth=None,\n",
       "                                           max_leaves=None,\n",
       "                                           min_child_weight=None, missing=nan,\n",
       "                                           monotone_constraints=None,\n",
       "                                           multi_strategy=None,\n",
       "                                           n_estimators=None, n_jobs=None,\n",
       "                                           num_parallel_tree=None,\n",
       "                                           random_state=None, ...),\n",
       "                   n_iter=20, n_jobs=-1,\n",
       "                   param_distributions={&#x27;learning_rate&#x27;: [0.1, 0.01, 0.05],\n",
       "                                        &#x27;max_depth&#x27;: [3, 4, 5],\n",
       "                                        &#x27;n_estimators&#x27;: [100, 200, 300]},\n",
       "                   random_state=42, scoring=&#x27;accuracy&#x27;, verbose=1)</pre></div></div></div><div class=\"sk-parallel\"><div class=\"sk-parallel-item\"><div class=\"sk-item\"><div class=\"sk-label-container\"><div class=\"sk-label sk-toggleable\"><input class=\"sk-toggleable__control sk-hidden--visually\" id=\"sk-estimator-id-3\" type=\"checkbox\" ><label for=\"sk-estimator-id-3\" class=\"sk-toggleable__label sk-toggleable__label-arrow\">estimator: XGBClassifier</label><div class=\"sk-toggleable__content\"><pre>XGBClassifier(base_score=None, booster=None, callbacks=None,\n",
       "              colsample_bylevel=None, colsample_bynode=None,\n",
       "              colsample_bytree=None, device=None, early_stopping_rounds=None,\n",
       "              enable_categorical=False, eval_metric=None, feature_types=None,\n",
       "              gamma=None, grow_policy=None, importance_type=None,\n",
       "              interaction_constraints=None, learning_rate=None, max_bin=None,\n",
       "              max_cat_threshold=None, max_cat_to_onehot=None,\n",
       "              max_delta_step=None, max_depth=None, max_leaves=None,\n",
       "              min_child_weight=None, missing=nan, monotone_constraints=None,\n",
       "              multi_strategy=None, n_estimators=None, n_jobs=None,\n",
       "              num_parallel_tree=None, random_state=None, ...)</pre></div></div></div><div class=\"sk-serial\"><div class=\"sk-item\"><div class=\"sk-estimator sk-toggleable\"><input class=\"sk-toggleable__control sk-hidden--visually\" id=\"sk-estimator-id-4\" type=\"checkbox\" ><label for=\"sk-estimator-id-4\" class=\"sk-toggleable__label sk-toggleable__label-arrow\">XGBClassifier</label><div class=\"sk-toggleable__content\"><pre>XGBClassifier(base_score=None, booster=None, callbacks=None,\n",
       "              colsample_bylevel=None, colsample_bynode=None,\n",
       "              colsample_bytree=None, device=None, early_stopping_rounds=None,\n",
       "              enable_categorical=False, eval_metric=None, feature_types=None,\n",
       "              gamma=None, grow_policy=None, importance_type=None,\n",
       "              interaction_constraints=None, learning_rate=None, max_bin=None,\n",
       "              max_cat_threshold=None, max_cat_to_onehot=None,\n",
       "              max_delta_step=None, max_depth=None, max_leaves=None,\n",
       "              min_child_weight=None, missing=nan, monotone_constraints=None,\n",
       "              multi_strategy=None, n_estimators=None, n_jobs=None,\n",
       "              num_parallel_tree=None, random_state=None, ...)</pre></div></div></div></div></div></div></div></div></div></div>"
      ],
      "text/plain": [
       "RandomizedSearchCV(cv=3,\n",
       "                   estimator=XGBClassifier(base_score=None, booster=None,\n",
       "                                           callbacks=None,\n",
       "                                           colsample_bylevel=None,\n",
       "                                           colsample_bynode=None,\n",
       "                                           colsample_bytree=None, device=None,\n",
       "                                           early_stopping_rounds=None,\n",
       "                                           enable_categorical=False,\n",
       "                                           eval_metric=None, feature_types=None,\n",
       "                                           gamma=None, grow_policy=None,\n",
       "                                           importance_type=None,\n",
       "                                           interaction_constraints=None,\n",
       "                                           learning_rate...\n",
       "                                           max_delta_step=None, max_depth=None,\n",
       "                                           max_leaves=None,\n",
       "                                           min_child_weight=None, missing=nan,\n",
       "                                           monotone_constraints=None,\n",
       "                                           multi_strategy=None,\n",
       "                                           n_estimators=None, n_jobs=None,\n",
       "                                           num_parallel_tree=None,\n",
       "                                           random_state=None, ...),\n",
       "                   n_iter=20, n_jobs=-1,\n",
       "                   param_distributions={'learning_rate': [0.1, 0.01, 0.05],\n",
       "                                        'max_depth': [3, 4, 5],\n",
       "                                        'n_estimators': [100, 200, 300]},\n",
       "                   random_state=42, scoring='accuracy', verbose=1)"
      ]
     },
     "execution_count": 33,
     "metadata": {},
     "output_type": "execute_result"
    }
   ],
   "source": [
    "random_search.fit(X_train_tfidf,y_train_encoded)"
   ]
  },
  {
   "cell_type": "code",
   "execution_count": 34,
   "id": "f2ba1b43",
   "metadata": {},
   "outputs": [],
   "source": [
    "best_params = random_search.best_params_"
   ]
  },
  {
   "cell_type": "code",
   "execution_count": 74,
   "id": "56306e38",
   "metadata": {},
   "outputs": [
    {
     "data": {
      "text/plain": [
       "{'n_estimators': 300, 'max_depth': 5, 'learning_rate': 0.1}"
      ]
     },
     "execution_count": 74,
     "metadata": {},
     "output_type": "execute_result"
    }
   ],
   "source": [
    "best_params"
   ]
  },
  {
   "cell_type": "markdown",
   "id": "deab7dcd",
   "metadata": {},
   "source": [
    "### saving the model in an joblib file"
   ]
  },
  {
   "cell_type": "code",
   "execution_count": 75,
   "id": "4c8f8def",
   "metadata": {},
   "outputs": [
    {
     "data": {
      "text/plain": [
       "['xgboost_text_classifier_model.joblib']"
      ]
     },
     "execution_count": 75,
     "metadata": {},
     "output_type": "execute_result"
    }
   ],
   "source": [
    "joblib.dump(random_search, \"xgboost_text_classifier_model.joblib\")"
   ]
  },
  {
   "cell_type": "code",
   "execution_count": 76,
   "id": "47f3bb13",
   "metadata": {},
   "outputs": [],
   "source": [
    "loaded_model = joblib.load(\"xgboost_text_classifier_model.joblib\")"
   ]
  },
  {
   "cell_type": "code",
   "execution_count": 78,
   "id": "f631e113",
   "metadata": {},
   "outputs": [
    {
     "data": {
      "text/html": [
       "<style>#sk-container-id-5 {color: black;}#sk-container-id-5 pre{padding: 0;}#sk-container-id-5 div.sk-toggleable {background-color: white;}#sk-container-id-5 label.sk-toggleable__label {cursor: pointer;display: block;width: 100%;margin-bottom: 0;padding: 0.3em;box-sizing: border-box;text-align: center;}#sk-container-id-5 label.sk-toggleable__label-arrow:before {content: \"▸\";float: left;margin-right: 0.25em;color: #696969;}#sk-container-id-5 label.sk-toggleable__label-arrow:hover:before {color: black;}#sk-container-id-5 div.sk-estimator:hover label.sk-toggleable__label-arrow:before {color: black;}#sk-container-id-5 div.sk-toggleable__content {max-height: 0;max-width: 0;overflow: hidden;text-align: left;background-color: #f0f8ff;}#sk-container-id-5 div.sk-toggleable__content pre {margin: 0.2em;color: black;border-radius: 0.25em;background-color: #f0f8ff;}#sk-container-id-5 input.sk-toggleable__control:checked~div.sk-toggleable__content {max-height: 200px;max-width: 100%;overflow: auto;}#sk-container-id-5 input.sk-toggleable__control:checked~label.sk-toggleable__label-arrow:before {content: \"▾\";}#sk-container-id-5 div.sk-estimator input.sk-toggleable__control:checked~label.sk-toggleable__label {background-color: #d4ebff;}#sk-container-id-5 div.sk-label input.sk-toggleable__control:checked~label.sk-toggleable__label {background-color: #d4ebff;}#sk-container-id-5 input.sk-hidden--visually {border: 0;clip: rect(1px 1px 1px 1px);clip: rect(1px, 1px, 1px, 1px);height: 1px;margin: -1px;overflow: hidden;padding: 0;position: absolute;width: 1px;}#sk-container-id-5 div.sk-estimator {font-family: monospace;background-color: #f0f8ff;border: 1px dotted black;border-radius: 0.25em;box-sizing: border-box;margin-bottom: 0.5em;}#sk-container-id-5 div.sk-estimator:hover {background-color: #d4ebff;}#sk-container-id-5 div.sk-parallel-item::after {content: \"\";width: 100%;border-bottom: 1px solid gray;flex-grow: 1;}#sk-container-id-5 div.sk-label:hover label.sk-toggleable__label {background-color: #d4ebff;}#sk-container-id-5 div.sk-serial::before {content: \"\";position: absolute;border-left: 1px solid gray;box-sizing: border-box;top: 0;bottom: 0;left: 50%;z-index: 0;}#sk-container-id-5 div.sk-serial {display: flex;flex-direction: column;align-items: center;background-color: white;padding-right: 0.2em;padding-left: 0.2em;position: relative;}#sk-container-id-5 div.sk-item {position: relative;z-index: 1;}#sk-container-id-5 div.sk-parallel {display: flex;align-items: stretch;justify-content: center;background-color: white;position: relative;}#sk-container-id-5 div.sk-item::before, #sk-container-id-5 div.sk-parallel-item::before {content: \"\";position: absolute;border-left: 1px solid gray;box-sizing: border-box;top: 0;bottom: 0;left: 50%;z-index: -1;}#sk-container-id-5 div.sk-parallel-item {display: flex;flex-direction: column;z-index: 1;position: relative;background-color: white;}#sk-container-id-5 div.sk-parallel-item:first-child::after {align-self: flex-end;width: 50%;}#sk-container-id-5 div.sk-parallel-item:last-child::after {align-self: flex-start;width: 50%;}#sk-container-id-5 div.sk-parallel-item:only-child::after {width: 0;}#sk-container-id-5 div.sk-dashed-wrapped {border: 1px dashed gray;margin: 0 0.4em 0.5em 0.4em;box-sizing: border-box;padding-bottom: 0.4em;background-color: white;}#sk-container-id-5 div.sk-label label {font-family: monospace;font-weight: bold;display: inline-block;line-height: 1.2em;}#sk-container-id-5 div.sk-label-container {text-align: center;}#sk-container-id-5 div.sk-container {/* jupyter's `normalize.less` sets `[hidden] { display: none; }` but bootstrap.min.css set `[hidden] { display: none !important; }` so we also need the `!important` here to be able to override the default hidden behavior on the sphinx rendered scikit-learn.org. See: https://github.com/scikit-learn/scikit-learn/issues/21755 */display: inline-block !important;position: relative;}#sk-container-id-5 div.sk-text-repr-fallback {display: none;}</style><div id=\"sk-container-id-5\" class=\"sk-top-container\"><div class=\"sk-text-repr-fallback\"><pre>RandomizedSearchCV(cv=3,\n",
       "                   estimator=XGBClassifier(base_score=None, booster=None,\n",
       "                                           callbacks=None,\n",
       "                                           colsample_bylevel=None,\n",
       "                                           colsample_bynode=None,\n",
       "                                           colsample_bytree=None, device=None,\n",
       "                                           early_stopping_rounds=None,\n",
       "                                           enable_categorical=False,\n",
       "                                           eval_metric=None, feature_types=None,\n",
       "                                           gamma=None, grow_policy=None,\n",
       "                                           importance_type=None,\n",
       "                                           interaction_constraints=None,\n",
       "                                           learning_rate...\n",
       "                                           max_delta_step=None, max_depth=None,\n",
       "                                           max_leaves=None,\n",
       "                                           min_child_weight=None, missing=nan,\n",
       "                                           monotone_constraints=None,\n",
       "                                           multi_strategy=None,\n",
       "                                           n_estimators=None, n_jobs=None,\n",
       "                                           num_parallel_tree=None,\n",
       "                                           random_state=None, ...),\n",
       "                   n_iter=20, n_jobs=-1,\n",
       "                   param_distributions={&#x27;learning_rate&#x27;: [0.1, 0.01, 0.05],\n",
       "                                        &#x27;max_depth&#x27;: [3, 4, 5],\n",
       "                                        &#x27;n_estimators&#x27;: [100, 200, 300]},\n",
       "                   random_state=42, scoring=&#x27;accuracy&#x27;, verbose=1)</pre><b>In a Jupyter environment, please rerun this cell to show the HTML representation or trust the notebook. <br />On GitHub, the HTML representation is unable to render, please try loading this page with nbviewer.org.</b></div><div class=\"sk-container\" hidden><div class=\"sk-item sk-dashed-wrapped\"><div class=\"sk-label-container\"><div class=\"sk-label sk-toggleable\"><input class=\"sk-toggleable__control sk-hidden--visually\" id=\"sk-estimator-id-9\" type=\"checkbox\" ><label for=\"sk-estimator-id-9\" class=\"sk-toggleable__label sk-toggleable__label-arrow\">RandomizedSearchCV</label><div class=\"sk-toggleable__content\"><pre>RandomizedSearchCV(cv=3,\n",
       "                   estimator=XGBClassifier(base_score=None, booster=None,\n",
       "                                           callbacks=None,\n",
       "                                           colsample_bylevel=None,\n",
       "                                           colsample_bynode=None,\n",
       "                                           colsample_bytree=None, device=None,\n",
       "                                           early_stopping_rounds=None,\n",
       "                                           enable_categorical=False,\n",
       "                                           eval_metric=None, feature_types=None,\n",
       "                                           gamma=None, grow_policy=None,\n",
       "                                           importance_type=None,\n",
       "                                           interaction_constraints=None,\n",
       "                                           learning_rate...\n",
       "                                           max_delta_step=None, max_depth=None,\n",
       "                                           max_leaves=None,\n",
       "                                           min_child_weight=None, missing=nan,\n",
       "                                           monotone_constraints=None,\n",
       "                                           multi_strategy=None,\n",
       "                                           n_estimators=None, n_jobs=None,\n",
       "                                           num_parallel_tree=None,\n",
       "                                           random_state=None, ...),\n",
       "                   n_iter=20, n_jobs=-1,\n",
       "                   param_distributions={&#x27;learning_rate&#x27;: [0.1, 0.01, 0.05],\n",
       "                                        &#x27;max_depth&#x27;: [3, 4, 5],\n",
       "                                        &#x27;n_estimators&#x27;: [100, 200, 300]},\n",
       "                   random_state=42, scoring=&#x27;accuracy&#x27;, verbose=1)</pre></div></div></div><div class=\"sk-parallel\"><div class=\"sk-parallel-item\"><div class=\"sk-item\"><div class=\"sk-label-container\"><div class=\"sk-label sk-toggleable\"><input class=\"sk-toggleable__control sk-hidden--visually\" id=\"sk-estimator-id-10\" type=\"checkbox\" ><label for=\"sk-estimator-id-10\" class=\"sk-toggleable__label sk-toggleable__label-arrow\">estimator: XGBClassifier</label><div class=\"sk-toggleable__content\"><pre>XGBClassifier(base_score=None, booster=None, callbacks=None,\n",
       "              colsample_bylevel=None, colsample_bynode=None,\n",
       "              colsample_bytree=None, device=None, early_stopping_rounds=None,\n",
       "              enable_categorical=False, eval_metric=None, feature_types=None,\n",
       "              gamma=None, grow_policy=None, importance_type=None,\n",
       "              interaction_constraints=None, learning_rate=None, max_bin=None,\n",
       "              max_cat_threshold=None, max_cat_to_onehot=None,\n",
       "              max_delta_step=None, max_depth=None, max_leaves=None,\n",
       "              min_child_weight=None, missing=nan, monotone_constraints=None,\n",
       "              multi_strategy=None, n_estimators=None, n_jobs=None,\n",
       "              num_parallel_tree=None, random_state=None, ...)</pre></div></div></div><div class=\"sk-serial\"><div class=\"sk-item\"><div class=\"sk-estimator sk-toggleable\"><input class=\"sk-toggleable__control sk-hidden--visually\" id=\"sk-estimator-id-11\" type=\"checkbox\" ><label for=\"sk-estimator-id-11\" class=\"sk-toggleable__label sk-toggleable__label-arrow\">XGBClassifier</label><div class=\"sk-toggleable__content\"><pre>XGBClassifier(base_score=None, booster=None, callbacks=None,\n",
       "              colsample_bylevel=None, colsample_bynode=None,\n",
       "              colsample_bytree=None, device=None, early_stopping_rounds=None,\n",
       "              enable_categorical=False, eval_metric=None, feature_types=None,\n",
       "              gamma=None, grow_policy=None, importance_type=None,\n",
       "              interaction_constraints=None, learning_rate=None, max_bin=None,\n",
       "              max_cat_threshold=None, max_cat_to_onehot=None,\n",
       "              max_delta_step=None, max_depth=None, max_leaves=None,\n",
       "              min_child_weight=None, missing=nan, monotone_constraints=None,\n",
       "              multi_strategy=None, n_estimators=None, n_jobs=None,\n",
       "              num_parallel_tree=None, random_state=None, ...)</pre></div></div></div></div></div></div></div></div></div></div>"
      ],
      "text/plain": [
       "RandomizedSearchCV(cv=3,\n",
       "                   estimator=XGBClassifier(base_score=None, booster=None,\n",
       "                                           callbacks=None,\n",
       "                                           colsample_bylevel=None,\n",
       "                                           colsample_bynode=None,\n",
       "                                           colsample_bytree=None, device=None,\n",
       "                                           early_stopping_rounds=None,\n",
       "                                           enable_categorical=False,\n",
       "                                           eval_metric=None, feature_types=None,\n",
       "                                           gamma=None, grow_policy=None,\n",
       "                                           importance_type=None,\n",
       "                                           interaction_constraints=None,\n",
       "                                           learning_rate...\n",
       "                                           max_delta_step=None, max_depth=None,\n",
       "                                           max_leaves=None,\n",
       "                                           min_child_weight=None, missing=nan,\n",
       "                                           monotone_constraints=None,\n",
       "                                           multi_strategy=None,\n",
       "                                           n_estimators=None, n_jobs=None,\n",
       "                                           num_parallel_tree=None,\n",
       "                                           random_state=None, ...),\n",
       "                   n_iter=20, n_jobs=-1,\n",
       "                   param_distributions={'learning_rate': [0.1, 0.01, 0.05],\n",
       "                                        'max_depth': [3, 4, 5],\n",
       "                                        'n_estimators': [100, 200, 300]},\n",
       "                   random_state=42, scoring='accuracy', verbose=1)"
      ]
     },
     "execution_count": 78,
     "metadata": {},
     "output_type": "execute_result"
    }
   ],
   "source": [
    "loaded_model"
   ]
  },
  {
   "cell_type": "markdown",
   "id": "5cfabdae",
   "metadata": {},
   "source": [
    "### prediction process takes place here"
   ]
  },
  {
   "cell_type": "code",
   "execution_count": 79,
   "id": "0767d731",
   "metadata": {},
   "outputs": [],
   "source": [
    "y_pred_encoded = loaded_model.predict(X_test_tfidf)"
   ]
  },
  {
   "cell_type": "code",
   "execution_count": 110,
   "id": "aec9b939",
   "metadata": {},
   "outputs": [
    {
     "data": {
      "text/plain": [
       "array([37, 68, 60, ..., 52, 68, 25], dtype=int64)"
      ]
     },
     "execution_count": 110,
     "metadata": {},
     "output_type": "execute_result"
    }
   ],
   "source": [
    "y_pred_encoded"
   ]
  },
  {
   "cell_type": "markdown",
   "id": "0b31f648",
   "metadata": {},
   "source": [
    "### applying inverse transform for original prediction(conversion of numeric into words)"
   ]
  },
  {
   "cell_type": "code",
   "execution_count": 102,
   "id": "a4ff5cd5",
   "metadata": {},
   "outputs": [],
   "source": [
    "y_pred_original = label_encoder.inverse_transform(y_pred_encoded)"
   ]
  },
  {
   "cell_type": "code",
   "execution_count": 111,
   "id": "eb393c99",
   "metadata": {
    "scrolled": true
   },
   "outputs": [
    {
     "data": {
      "text/plain": [
       "array(['CHMF - IT Site Support', 'FIN - IT Finance Analysts',\n",
       "       'ENG - NVH Support', ..., 'EHQ - IT Site Support',\n",
       "       'FIN - IT Finance Analysts', 'APP - RPA Support'], dtype=object)"
      ]
     },
     "execution_count": 111,
     "metadata": {},
     "output_type": "execute_result"
    }
   ],
   "source": [
    "y_pred_original"
   ]
  },
  {
   "cell_type": "code",
   "execution_count": 112,
   "id": "2bc68eb9",
   "metadata": {},
   "outputs": [],
   "source": [
    "accuracy = accuracy_score(y_test, y_pred_original)"
   ]
  },
  {
   "cell_type": "markdown",
   "id": "5e94e975",
   "metadata": {},
   "source": [
    "### printing the model's accuracy "
   ]
  },
  {
   "cell_type": "code",
   "execution_count": 113,
   "id": "eacb3a90",
   "metadata": {},
   "outputs": [
    {
     "data": {
      "text/plain": [
       "0.899535216303182"
      ]
     },
     "execution_count": 113,
     "metadata": {},
     "output_type": "execute_result"
    }
   ],
   "source": [
    "accuracy"
   ]
  },
  {
   "cell_type": "markdown",
   "id": "0a87c434",
   "metadata": {},
   "source": [
    "### The best paramters used"
   ]
  },
  {
   "cell_type": "code",
   "execution_count": 114,
   "id": "c5de8b86",
   "metadata": {},
   "outputs": [
    {
     "name": "stdout",
     "output_type": "stream",
     "text": [
      "Best Parameters: {'n_estimators': 300, 'max_depth': 5, 'learning_rate': 0.1}\n"
     ]
    }
   ],
   "source": [
    "print(\"Best Parameters:\", best_params)"
   ]
  },
  {
   "cell_type": "markdown",
   "id": "659f8eef",
   "metadata": {},
   "source": [
    "### testing the model on new ticket data"
   ]
  },
  {
   "cell_type": "code",
   "execution_count": 230,
   "id": "eec89987",
   "metadata": {},
   "outputs": [],
   "source": [
    "new_ticket_data = {\n",
    "    'Description': \"User reporting login issue\",\n",
    "    'Category': \"Login\",\n",
    "    'Priority': \"Low\",\n",
    "    'Affected User Business Unit': \"IT\",\n",
    "    'Department': \"Support\",\n",
    "    'Employee Type': \"Full-time\",\n",
    "    'Source': \"Web\",\n",
    "    'Status': \"Open\",\n",
    "    'Affected User Location': \"chennai Manufacturing Facility\"\n",
    "}"
   ]
  },
  {
   "cell_type": "code",
   "execution_count": 231,
   "id": "0fa81932",
   "metadata": {},
   "outputs": [],
   "source": [
    "new_ticket_text = ' '.join([str(new_ticket_data[col]) for col in text_columns])\n",
    "new_ticket_text = ' '.join([lemmatizer.lemmatize(word) for word in word_tokenize(new_ticket_text)])\n",
    "new_ticket_tfidf = tfidf_vectorizer.transform([new_ticket_text])\n"
   ]
  },
  {
   "cell_type": "code",
   "execution_count": 232,
   "id": "f63a097a",
   "metadata": {},
   "outputs": [],
   "source": [
    "new_ticket_pred_encoded = loaded_model.predict(new_ticket_tfidf)"
   ]
  },
  {
   "cell_type": "code",
   "execution_count": 233,
   "id": "b25ffd9b",
   "metadata": {},
   "outputs": [],
   "source": [
    "new_ticket_pred_original = label_encoder.inverse_transform(new_ticket_pred_encoded)\n"
   ]
  },
  {
   "cell_type": "markdown",
   "id": "a38860fc",
   "metadata": {},
   "source": [
    "###final prediction of the above new ticket data for testing"
   ]
  },
  {
   "cell_type": "code",
   "execution_count": 234,
   "id": "8c02af3f",
   "metadata": {},
   "outputs": [
    {
     "name": "stdout",
     "output_type": "stream",
     "text": [
      "Prediction for the new ticket data: AAM - L2 Service Desk\n"
     ]
    }
   ],
   "source": [
    "print(\"Prediction for the new ticket data:\", new_ticket_pred_original[0])"
   ]
  },
  {
   "cell_type": "code",
   "execution_count": null,
   "id": "2e74249f",
   "metadata": {},
   "outputs": [],
   "source": []
  },
  {
   "cell_type": "code",
   "execution_count": 144,
   "id": "47ebd5b3",
   "metadata": {},
   "outputs": [],
   "source": [
    "#unseen labels-2 by creation of subset "
   ]
  },
  {
   "cell_type": "code",
   "execution_count": 236,
   "id": "45cadcd8",
   "metadata": {},
   "outputs": [
    {
     "name": "stderr",
     "output_type": "stream",
     "text": [
      "C:\\Users\\sridhar\\AppData\\Local\\Temp\\ipykernel_3832\\1234129387.py:1: DtypeWarning: Columns (10,30,33,34,44,55,57,64) have mixed types. Specify dtype option on import or set low_memory=False.\n",
      "  df = pd.read_csv(\"tickets.csv\")\n"
     ]
    }
   ],
   "source": [
    "df = pd.read_csv(\"tickets.csv\")"
   ]
  },
  {
   "cell_type": "markdown",
   "id": "2ef65d92",
   "metadata": {},
   "source": [
    "### initializing subset size as the model will consider random sample subsets of the dataset and trains on each of the unseen data(here the subsets are the unseen data)"
   ]
  },
  {
   "cell_type": "code",
   "execution_count": 237,
   "id": "767bb259",
   "metadata": {},
   "outputs": [],
   "source": [
    "subset_size = 100"
   ]
  },
  {
   "cell_type": "markdown",
   "id": "6181a948",
   "metadata": {},
   "source": [
    "### declaring reference columns again"
   ]
  },
  {
   "cell_type": "code",
   "execution_count": 242,
   "id": "a860eee0",
   "metadata": {},
   "outputs": [],
   "source": [
    "text_columns_2_reference = ['Description', 'Category', 'Priority', 'Affected User Business Unit', 'Department', 'Employee Type', 'Source', 'Status','Affected User Location']"
   ]
  },
  {
   "cell_type": "code",
   "execution_count": 243,
   "id": "685c1e33",
   "metadata": {},
   "outputs": [
    {
     "name": "stdout",
     "output_type": "stream",
     "text": [
      "the size of subset randomly sampled : 100\n"
     ]
    }
   ],
   "source": [
    "print(\"the size of subset randomly sampled :\",subset_size)"
   ]
  },
  {
   "cell_type": "markdown",
   "id": "c6621671",
   "metadata": {},
   "source": [
    "### declaring subset sample"
   ]
  },
  {
   "cell_type": "code",
   "execution_count": 244,
   "id": "dafc6b70",
   "metadata": {},
   "outputs": [],
   "source": [
    "unseen_subset = df.sample(n=subset_size,random_state=42)"
   ]
  },
  {
   "cell_type": "code",
   "execution_count": 245,
   "id": "8d0a0e6c",
   "metadata": {},
   "outputs": [],
   "source": [
    "unseen_subset['Combined_Text'] = unseen_subset[text_columns_2_reference].apply(lambda row: ' '.join([str(row[col]) for col in text_columns_2_reference]), axis=1)"
   ]
  },
  {
   "cell_type": "code",
   "execution_count": 246,
   "id": "7fd15f71",
   "metadata": {
    "scrolled": true
   },
   "outputs": [],
   "source": [
    "unseen_subset['Combined_Text'] = unseen_subset['Combined_Text'].apply(lambda x: ' '.join([lemmatizer.lemmatize(word) for word in word_tokenize(str(x))]))"
   ]
  },
  {
   "cell_type": "code",
   "execution_count": 247,
   "id": "c4717c98",
   "metadata": {},
   "outputs": [],
   "source": [
    "x_unseen_subset = tfidf_vectorizer.transform(unseen_subset['Combined_Text'])"
   ]
  },
  {
   "cell_type": "markdown",
   "id": "12358f5a",
   "metadata": {},
   "source": [
    "### making prediction on unseen data"
   ]
  },
  {
   "cell_type": "code",
   "execution_count": 248,
   "id": "4b34be57",
   "metadata": {},
   "outputs": [],
   "source": [
    "y_unseen_prediction = loaded_model.predict(x_unseen_subset)"
   ]
  },
  {
   "cell_type": "code",
   "execution_count": 249,
   "id": "95a63d4c",
   "metadata": {},
   "outputs": [
    {
     "data": {
      "text/plain": [
       "array([ 72,  46, 114,  80, 119,  51, 129, 114, 145,  60,  17,   1,   1,\n",
       "        47,  17,  95,  53,  72,  85,  85, 104,  58,  14,  71,  47, 105,\n",
       "        63, 114,  26,  71,  43,  53, 117,  55,  17,  89,  47,  58,   1,\n",
       "         1,  10,  50,  42, 114,  71, 129,  85,  21, 106,   0,  17, 145,\n",
       "        32,  53,   1,  73,   1,  73,   7,  28,  43, 106,   1,   1,  17,\n",
       "         1,  55,  26, 135, 145,  43,  92, 121,  15,  32,  91,  55,  61,\n",
       "        49, 106, 106,  71,   1, 114,  31,  53,  72,  91,  42, 106, 144,\n",
       "       104,   1,   0,  18, 101,   5, 140,  14,  75], dtype=int64)"
      ]
     },
     "execution_count": 249,
     "metadata": {},
     "output_type": "execute_result"
    }
   ],
   "source": [
    "y_unseen_prediction"
   ]
  },
  {
   "cell_type": "code",
   "execution_count": 250,
   "id": "a3758a19",
   "metadata": {},
   "outputs": [],
   "source": [
    "y_unseen_prediction_original = label_encoder.inverse_transform(y_unseen_prediction)"
   ]
  },
  {
   "cell_type": "code",
   "execution_count": 251,
   "id": "2b9e8865",
   "metadata": {},
   "outputs": [
    {
     "data": {
      "text/plain": [
       "array(['GMC - Business Apps', 'EBS - Manufacturing-Supplier EDI',\n",
       "       'No Group', 'GMC - Plant Floor PLT6', 'PKMF - IT Site Support',\n",
       "       'EGMF - IT Site Support', 'SCMF - IT Site Support', 'No Group',\n",
       "       'ZGMF - IT Site Support', 'ENG - NVH Support',\n",
       "       'APP - ITSM Tool Support', 'AAM - Service Desk',\n",
       "       'AAM - Service Desk', 'EBS - Order Mgmt-Shipping-Customer EDI',\n",
       "       'APP - ITSM Tool Support', 'INF - IT Storage',\n",
       "       'EMMF - IT Site Support', 'GMC - Business Apps',\n",
       "       'HGMF - IT Site Support', 'HGMF - IT Site Support',\n",
       "       'India - L2 Service Desk', 'ENG - Electronic Control Systems',\n",
       "       'APP - IPF Support', 'Freshservice Bundle',\n",
       "       'EBS - Order Mgmt-Shipping-Customer EDI', 'India - Service Desk',\n",
       "       'ENG - Rational Tools Support', 'No Group', 'APP - SCADA Support',\n",
       "       'Freshservice Bundle', 'DBA - Oracle Support',\n",
       "       'EMMF - IT Site Support', 'OMF - IT Site Support', 'ENG - CAE-FEA',\n",
       "       'APP - ITSM Tool Support', 'INF - Active Directory Support',\n",
       "       'EBS - Order Mgmt-Shipping-Customer EDI',\n",
       "       'ENG - Electronic Control Systems', 'AAM - Service Desk',\n",
       "       'AAM - Service Desk', 'APP - BI Analytics', 'EBS - iSupplier',\n",
       "       'DBA - MS SQL Support', 'No Group', 'Freshservice Bundle',\n",
       "       'SCMF - IT Site Support', 'HGMF - IT Site Support',\n",
       "       'APP - O365 - Exchange Online', 'JBMC - IT Site Support',\n",
       "       'AAM - L2 Service Desk', 'APP - ITSM Tool Support',\n",
       "       'ZGMF - IT Site Support', 'BBMF - IT Site Support',\n",
       "       'EMMF - IT Site Support', 'AAM - Service Desk',\n",
       "       'GMC - IT Site Support', 'AAM - Service Desk',\n",
       "       'GMC - IT Site Support', 'AMF - Service Desk',\n",
       "       'APP - Time Keeping Support', 'DBA - Oracle Support',\n",
       "       'JBMC - IT Site Support', 'AAM - Service Desk',\n",
       "       'AAM - Service Desk', 'APP - ITSM Tool Support',\n",
       "       'AAM - Service Desk', 'ENG - CAE-FEA', 'APP - SCADA Support',\n",
       "       'TOMF - IT Site Support', 'ZGMF - IT Site Support',\n",
       "       'DBA - Oracle Support', 'INF - EUC - Intune Support',\n",
       "       'RGMF - IT Site Support', 'APP - IQS Support',\n",
       "       'BBMF - IT Site Support', 'INF - Cloud Engineering and Automation',\n",
       "       'ENG - CAE-FEA', 'ENG - PLM Support', 'EBS - Security',\n",
       "       'JBMC - IT Site Support', 'JBMC - IT Site Support',\n",
       "       'Freshservice Bundle', 'AAM - Service Desk', 'No Group',\n",
       "       'ATDC - IT Site Support', 'EMMF - IT Site Support',\n",
       "       'GMC - Business Apps', 'INF - Cloud Engineering and Automation',\n",
       "       'DBA - MS SQL Support', 'JBMC - IT Site Support',\n",
       "       'ZCMF - IT Site Support', 'India - L2 Service Desk',\n",
       "       'AAM - Service Desk', 'AAM - L2 Service Desk',\n",
       "       'APP - Machine Data Manager (MDM) Support',\n",
       "       'INF - Telecommunications', 'AMF - IT Site Support',\n",
       "       'WHQ - IT Site Support', 'APP - IPF Support',\n",
       "       'GMC - PF Systems Support'], dtype=object)"
      ]
     },
     "execution_count": 251,
     "metadata": {},
     "output_type": "execute_result"
    }
   ],
   "source": [
    "y_unseen_prediction_original"
   ]
  },
  {
   "cell_type": "code",
   "execution_count": 252,
   "id": "4483347d",
   "metadata": {},
   "outputs": [],
   "source": [
    "accuracy_unseen_subset = accuracy_score(unseen_subset['Group'], y_unseen_prediction_original)"
   ]
  },
  {
   "cell_type": "markdown",
   "id": "9a5ea840",
   "metadata": {},
   "source": [
    "###accuracy of the unseen data testing"
   ]
  },
  {
   "cell_type": "code",
   "execution_count": 253,
   "id": "8c2ff4ab",
   "metadata": {},
   "outputs": [
    {
     "data": {
      "text/plain": [
       "0.85"
      ]
     },
     "execution_count": 253,
     "metadata": {},
     "output_type": "execute_result"
    }
   ],
   "source": [
    "accuracy_unseen_subset"
   ]
  },
  {
   "cell_type": "code",
   "execution_count": null,
   "id": "f3c933a3",
   "metadata": {},
   "outputs": [],
   "source": []
  },
  {
   "cell_type": "code",
   "execution_count": null,
   "id": "4be8576e",
   "metadata": {},
   "outputs": [],
   "source": []
  },
  {
   "cell_type": "code",
   "execution_count": null,
   "id": "0036df8e",
   "metadata": {},
   "outputs": [],
   "source": []
  },
  {
   "cell_type": "code",
   "execution_count": null,
   "id": "954e7b9c",
   "metadata": {},
   "outputs": [],
   "source": []
  }
 ],
 "metadata": {
  "kernelspec": {
   "display_name": "Python 3 (ipykernel)",
   "language": "python",
   "name": "python3"
  },
  "language_info": {
   "codemirror_mode": {
    "name": "ipython",
    "version": 3
   },
   "file_extension": ".py",
   "mimetype": "text/x-python",
   "name": "python",
   "nbconvert_exporter": "python",
   "pygments_lexer": "ipython3",
   "version": "3.11.5"
  }
 },
 "nbformat": 4,
 "nbformat_minor": 5
}
